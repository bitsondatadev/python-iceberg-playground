{
 "cells": [
  {
   "cell_type": "code",
   "execution_count": 7,
   "id": "cde1b289-a74c-4191-baa1-916c27239330",
   "metadata": {},
   "outputs": [],
   "source": [
    "import pathlib\n",
    "\n",
    "warehouse_path = pathlib.Path(\"../data/\").absolute()\n",
    "warehouse_path.mkdir(exist_ok=True)"
   ]
  },
  {
   "cell_type": "code",
   "execution_count": 8,
   "id": "ae7f2554-319a-477d-92c0-f1089fc5e66a",
   "metadata": {},
   "outputs": [],
   "source": [
    "from pyiceberg.catalog.sql import SqlCatalog\n",
    "\n",
    "local_catalog = SqlCatalog(\n",
    "    \"default\",\n",
    "    **{\n",
    "        \"uri\": f\"sqlite:///{warehouse_path}/pyiceberg_catalog.db\",\n",
    "        \"warehouse\": f\"file://{warehouse_path}\",\n",
    "    },\n",
    ")\n",
    "local_catalog.create_namespace(\"nyc_taxi\")"
   ]
  },
  {
   "cell_type": "code",
   "execution_count": 9,
   "id": "b3d089f7-54a4-4f62-b296-8af64d215248",
   "metadata": {},
   "outputs": [],
   "source": [
    "from pyiceberg.catalog.glue import GlueCatalog\n",
    "\n",
    "glue_catalog = GlueCatalog(\"glue\")\n",
    "glue_table = glue_catalog.load_table(\"nyc_taxi.fhvhv\")"
   ]
  },
  {
   "cell_type": "code",
   "execution_count": 10,
   "id": "f77d6328-889b-44fe-8637-eb761f1c5b21",
   "metadata": {},
   "outputs": [],
   "source": [
    "local_table = local_catalog.create_table(\n",
    "    \"nyc_taxi.fhvhv_sample\",\n",
    "    glue_table.schema(),\n",
    ")"
   ]
  },
  {
   "cell_type": "code",
   "execution_count": 11,
   "id": "4826c749-0fa8-4034-8a69-dc7eb0276995",
   "metadata": {},
   "outputs": [],
   "source": [
    "import daft\n",
    "import datetime\n",
    "\n",
    "big_df = daft.read_iceberg(glue_table)\n",
    "big_df_sample = big_df.where(big_df[\"pickup_datetime\"] < datetime.date(2022, 1, 5))"
   ]
  },
  {
   "cell_type": "code",
   "execution_count": 12,
   "id": "b0e9b1f2-d19a-4538-9b09-f4841b9a2c66",
   "metadata": {},
   "outputs": [
    {
     "data": {
      "text/html": [
       "<div>\n",
       "<table class=\"dataframe\">\n",
       "<thead><tr><th style=\"text-wrap: nowrap; max-width:192px; overflow:auto; text-align:left\">hvfhs_license_num<br />Utf8</th><th style=\"text-wrap: nowrap; max-width:192px; overflow:auto; text-align:left\">dispatching_base_num<br />Utf8</th><th style=\"text-wrap: nowrap; max-width:192px; overflow:auto; text-align:left\">originating_base_num<br />Utf8</th><th style=\"text-wrap: nowrap; max-width:192px; overflow:auto; text-align:left\">request_datetime<br />Timestamp(Microseconds, Some(\"UTC\"))</th><th style=\"text-wrap: nowrap; max-width:192px; overflow:auto; text-align:left\">on_scene_datetime<br />Timestamp(Microseconds, Some(\"UTC\"))</th><th style=\"text-wrap: nowrap; max-width:192px; overflow:auto; text-align:left\">pickup_datetime<br />Timestamp(Microseconds, Some(\"UTC\"))</th><th style=\"text-wrap: nowrap; max-width:192px; overflow:auto; text-align:left\">dropoff_datetime<br />Timestamp(Microseconds, Some(\"UTC\"))</th><th style=\"text-wrap: nowrap; max-width:192px; overflow:auto; text-align:left\">PULocationID<br />Int32</th><th style=\"text-wrap: nowrap; max-width:192px; overflow:auto; text-align:left\">DOLocationID<br />Int32</th><th style=\"text-wrap: nowrap; max-width:192px; overflow:auto; text-align:left\">trip_miles<br />Float32</th><th style=\"text-wrap: nowrap; max-width:192px; overflow:auto; text-align:left\">trip_time<br />Int32</th><th style=\"text-wrap: nowrap; max-width:192px; overflow:auto; text-align:left\">base_passenger_fare<br />Float32</th><th style=\"text-wrap: nowrap; max-width:192px; overflow:auto; text-align:left\">tolls<br />Float32</th><th style=\"text-wrap: nowrap; max-width:192px; overflow:auto; text-align:left\">bcf<br />Float32</th><th style=\"text-wrap: nowrap; max-width:192px; overflow:auto; text-align:left\">sales_tax<br />Float32</th><th style=\"text-wrap: nowrap; max-width:192px; overflow:auto; text-align:left\">congestion_surcharge<br />Float32</th><th style=\"text-wrap: nowrap; max-width:192px; overflow:auto; text-align:left\">airport_fee<br />Float32</th><th style=\"text-wrap: nowrap; max-width:192px; overflow:auto; text-align:left\">tips<br />Float32</th><th style=\"text-wrap: nowrap; max-width:192px; overflow:auto; text-align:left\">driver_pay<br />Float32</th><th style=\"text-wrap: nowrap; max-width:192px; overflow:auto; text-align:left\">shared_request_flag<br />Utf8</th><th style=\"text-wrap: nowrap; max-width:192px; overflow:auto; text-align:left\">shared_match_flag<br />Utf8</th><th style=\"text-wrap: nowrap; max-width:192px; overflow:auto; text-align:left\">access_a_ride_flag<br />Utf8</th><th style=\"text-wrap: nowrap; max-width:192px; overflow:auto; text-align:left\">wav_request_flag<br />Utf8</th><th style=\"text-wrap: nowrap; max-width:192px; overflow:auto; text-align:left\">wav_match_flag<br />Utf8</th></tr></thead>\n",
       "<tbody>\n",
       "<tr><td><div style=\"text-align:left; max-width:192px; max-height:64px; overflow:auto\">HV0003</div></td><td><div style=\"text-align:left; max-width:192px; max-height:64px; overflow:auto\">B03404</div></td><td><div style=\"text-align:left; max-width:192px; max-height:64px; overflow:auto\">B03404</div></td><td><div style=\"text-align:left; max-width:192px; max-height:64px; overflow:auto\">2022-01-01T00:05:31.000000+00:00</div></td><td><div style=\"text-align:left; max-width:192px; max-height:64px; overflow:auto\">2022-01-01T00:05:40.000000+00:00</div></td><td><div style=\"text-align:left; max-width:192px; max-height:64px; overflow:auto\">2022-01-01T00:07:24.000000+00:00</div></td><td><div style=\"text-align:left; max-width:192px; max-height:64px; overflow:auto\">2022-01-01T00:18:28.000000+00:00</div></td><td><div style=\"text-align:left; max-width:192px; max-height:64px; overflow:auto\">170</div></td><td><div style=\"text-align:left; max-width:192px; max-height:64px; overflow:auto\">161</div></td><td><div style=\"text-align:left; max-width:192px; max-height:64px; overflow:auto\">1.18</div></td><td><div style=\"text-align:left; max-width:192px; max-height:64px; overflow:auto\">664</div></td><td><div style=\"text-align:left; max-width:192px; max-height:64px; overflow:auto\">24.9</div></td><td><div style=\"text-align:left; max-width:192px; max-height:64px; overflow:auto\">0</div></td><td><div style=\"text-align:left; max-width:192px; max-height:64px; overflow:auto\">0.75</div></td><td><div style=\"text-align:left; max-width:192px; max-height:64px; overflow:auto\">2.21</div></td><td><div style=\"text-align:left; max-width:192px; max-height:64px; overflow:auto\">2.75</div></td><td><div style=\"text-align:left; max-width:192px; max-height:64px; overflow:auto\">0</div></td><td><div style=\"text-align:left; max-width:192px; max-height:64px; overflow:auto\">0</div></td><td><div style=\"text-align:left; max-width:192px; max-height:64px; overflow:auto\">23.03</div></td><td><div style=\"text-align:left; max-width:192px; max-height:64px; overflow:auto\">N</div></td><td><div style=\"text-align:left; max-width:192px; max-height:64px; overflow:auto\">N</div></td><td><div style=\"text-align:left; max-width:192px; max-height:64px; overflow:auto\"> </div></td><td><div style=\"text-align:left; max-width:192px; max-height:64px; overflow:auto\">N</div></td><td><div style=\"text-align:left; max-width:192px; max-height:64px; overflow:auto\">N</div></td></tr>\n",
       "<tr><td><div style=\"text-align:left; max-width:192px; max-height:64px; overflow:auto\">HV0003</div></td><td><div style=\"text-align:left; max-width:192px; max-height:64px; overflow:auto\">B03404</div></td><td><div style=\"text-align:left; max-width:192px; max-height:64px; overflow:auto\">B03404</div></td><td><div style=\"text-align:left; max-width:192px; max-height:64px; overflow:auto\">2022-01-01T00:19:27.000000+00:00</div></td><td><div style=\"text-align:left; max-width:192px; max-height:64px; overflow:auto\">2022-01-01T00:22:08.000000+00:00</div></td><td><div style=\"text-align:left; max-width:192px; max-height:64px; overflow:auto\">2022-01-01T00:22:32.000000+00:00</div></td><td><div style=\"text-align:left; max-width:192px; max-height:64px; overflow:auto\">2022-01-01T00:30:12.000000+00:00</div></td><td><div style=\"text-align:left; max-width:192px; max-height:64px; overflow:auto\">237</div></td><td><div style=\"text-align:left; max-width:192px; max-height:64px; overflow:auto\">161</div></td><td><div style=\"text-align:left; max-width:192px; max-height:64px; overflow:auto\">0.82</div></td><td><div style=\"text-align:left; max-width:192px; max-height:64px; overflow:auto\">460</div></td><td><div style=\"text-align:left; max-width:192px; max-height:64px; overflow:auto\">11.97</div></td><td><div style=\"text-align:left; max-width:192px; max-height:64px; overflow:auto\">0</div></td><td><div style=\"text-align:left; max-width:192px; max-height:64px; overflow:auto\">0.36</div></td><td><div style=\"text-align:left; max-width:192px; max-height:64px; overflow:auto\">1.06</div></td><td><div style=\"text-align:left; max-width:192px; max-height:64px; overflow:auto\">2.75</div></td><td><div style=\"text-align:left; max-width:192px; max-height:64px; overflow:auto\">0</div></td><td><div style=\"text-align:left; max-width:192px; max-height:64px; overflow:auto\">0</div></td><td><div style=\"text-align:left; max-width:192px; max-height:64px; overflow:auto\">12.32</div></td><td><div style=\"text-align:left; max-width:192px; max-height:64px; overflow:auto\">N</div></td><td><div style=\"text-align:left; max-width:192px; max-height:64px; overflow:auto\">N</div></td><td><div style=\"text-align:left; max-width:192px; max-height:64px; overflow:auto\"> </div></td><td><div style=\"text-align:left; max-width:192px; max-height:64px; overflow:auto\">N</div></td><td><div style=\"text-align:left; max-width:192px; max-height:64px; overflow:auto\">N</div></td></tr>\n",
       "<tr><td><div style=\"text-align:left; max-width:192px; max-height:64px; overflow:auto\">HV0003</div></td><td><div style=\"text-align:left; max-width:192px; max-height:64px; overflow:auto\">B03404</div></td><td><div style=\"text-align:left; max-width:192px; max-height:64px; overflow:auto\">B03404</div></td><td><div style=\"text-align:left; max-width:192px; max-height:64px; overflow:auto\">2022-01-01T00:43:53.000000+00:00</div></td><td><div style=\"text-align:left; max-width:192px; max-height:64px; overflow:auto\">2022-01-01T00:57:37.000000+00:00</div></td><td><div style=\"text-align:left; max-width:192px; max-height:64px; overflow:auto\">2022-01-01T00:57:37.000000+00:00</div></td><td><div style=\"text-align:left; max-width:192px; max-height:64px; overflow:auto\">2022-01-01T01:07:32.000000+00:00</div></td><td><div style=\"text-align:left; max-width:192px; max-height:64px; overflow:auto\">237</div></td><td><div style=\"text-align:left; max-width:192px; max-height:64px; overflow:auto\">161</div></td><td><div style=\"text-align:left; max-width:192px; max-height:64px; overflow:auto\">1.18</div></td><td><div style=\"text-align:left; max-width:192px; max-height:64px; overflow:auto\">595</div></td><td><div style=\"text-align:left; max-width:192px; max-height:64px; overflow:auto\">29.82</div></td><td><div style=\"text-align:left; max-width:192px; max-height:64px; overflow:auto\">0</div></td><td><div style=\"text-align:left; max-width:192px; max-height:64px; overflow:auto\">0.89</div></td><td><div style=\"text-align:left; max-width:192px; max-height:64px; overflow:auto\">2.65</div></td><td><div style=\"text-align:left; max-width:192px; max-height:64px; overflow:auto\">2.75</div></td><td><div style=\"text-align:left; max-width:192px; max-height:64px; overflow:auto\">0</div></td><td><div style=\"text-align:left; max-width:192px; max-height:64px; overflow:auto\">0</div></td><td><div style=\"text-align:left; max-width:192px; max-height:64px; overflow:auto\">23.3</div></td><td><div style=\"text-align:left; max-width:192px; max-height:64px; overflow:auto\">N</div></td><td><div style=\"text-align:left; max-width:192px; max-height:64px; overflow:auto\">N</div></td><td><div style=\"text-align:left; max-width:192px; max-height:64px; overflow:auto\"> </div></td><td><div style=\"text-align:left; max-width:192px; max-height:64px; overflow:auto\">N</div></td><td><div style=\"text-align:left; max-width:192px; max-height:64px; overflow:auto\">N</div></td></tr>\n",
       "<tr><td><div style=\"text-align:left; max-width:192px; max-height:64px; overflow:auto\">HV0003</div></td><td><div style=\"text-align:left; max-width:192px; max-height:64px; overflow:auto\">B03404</div></td><td><div style=\"text-align:left; max-width:192px; max-height:64px; overflow:auto\">B03404</div></td><td><div style=\"text-align:left; max-width:192px; max-height:64px; overflow:auto\">2022-01-01T00:15:36.000000+00:00</div></td><td><div style=\"text-align:left; max-width:192px; max-height:64px; overflow:auto\">2022-01-01T00:17:08.000000+00:00</div></td><td><div style=\"text-align:left; max-width:192px; max-height:64px; overflow:auto\">2022-01-01T00:18:02.000000+00:00</div></td><td><div style=\"text-align:left; max-width:192px; max-height:64px; overflow:auto\">2022-01-01T00:23:05.000000+00:00</div></td><td><div style=\"text-align:left; max-width:192px; max-height:64px; overflow:auto\">262</div></td><td><div style=\"text-align:left; max-width:192px; max-height:64px; overflow:auto\">229</div></td><td><div style=\"text-align:left; max-width:192px; max-height:64px; overflow:auto\">1.65</div></td><td><div style=\"text-align:left; max-width:192px; max-height:64px; overflow:auto\">303</div></td><td><div style=\"text-align:left; max-width:192px; max-height:64px; overflow:auto\">7.91</div></td><td><div style=\"text-align:left; max-width:192px; max-height:64px; overflow:auto\">0</div></td><td><div style=\"text-align:left; max-width:192px; max-height:64px; overflow:auto\">0.24</div></td><td><div style=\"text-align:left; max-width:192px; max-height:64px; overflow:auto\">0.7</div></td><td><div style=\"text-align:left; max-width:192px; max-height:64px; overflow:auto\">2.75</div></td><td><div style=\"text-align:left; max-width:192px; max-height:64px; overflow:auto\">0</div></td><td><div style=\"text-align:left; max-width:192px; max-height:64px; overflow:auto\">0</div></td><td><div style=\"text-align:left; max-width:192px; max-height:64px; overflow:auto\">6.3</div></td><td><div style=\"text-align:left; max-width:192px; max-height:64px; overflow:auto\">N</div></td><td><div style=\"text-align:left; max-width:192px; max-height:64px; overflow:auto\">N</div></td><td><div style=\"text-align:left; max-width:192px; max-height:64px; overflow:auto\"> </div></td><td><div style=\"text-align:left; max-width:192px; max-height:64px; overflow:auto\">N</div></td><td><div style=\"text-align:left; max-width:192px; max-height:64px; overflow:auto\">N</div></td></tr>\n",
       "<tr><td><div style=\"text-align:left; max-width:192px; max-height:64px; overflow:auto\">HV0003</div></td><td><div style=\"text-align:left; max-width:192px; max-height:64px; overflow:auto\">B03404</div></td><td><div style=\"text-align:left; max-width:192px; max-height:64px; overflow:auto\">B03404</div></td><td><div style=\"text-align:left; max-width:192px; max-height:64px; overflow:auto\">2022-01-01T00:25:45.000000+00:00</div></td><td><div style=\"text-align:left; max-width:192px; max-height:64px; overflow:auto\">2022-01-01T00:26:01.000000+00:00</div></td><td><div style=\"text-align:left; max-width:192px; max-height:64px; overflow:auto\">2022-01-01T00:28:01.000000+00:00</div></td><td><div style=\"text-align:left; max-width:192px; max-height:64px; overflow:auto\">2022-01-01T00:35:42.000000+00:00</div></td><td><div style=\"text-align:left; max-width:192px; max-height:64px; overflow:auto\">229</div></td><td><div style=\"text-align:left; max-width:192px; max-height:64px; overflow:auto\">141</div></td><td><div style=\"text-align:left; max-width:192px; max-height:64px; overflow:auto\">1.65</div></td><td><div style=\"text-align:left; max-width:192px; max-height:64px; overflow:auto\">461</div></td><td><div style=\"text-align:left; max-width:192px; max-height:64px; overflow:auto\">9.44</div></td><td><div style=\"text-align:left; max-width:192px; max-height:64px; overflow:auto\">0</div></td><td><div style=\"text-align:left; max-width:192px; max-height:64px; overflow:auto\">0.28</div></td><td><div style=\"text-align:left; max-width:192px; max-height:64px; overflow:auto\">0.84</div></td><td><div style=\"text-align:left; max-width:192px; max-height:64px; overflow:auto\">2.75</div></td><td><div style=\"text-align:left; max-width:192px; max-height:64px; overflow:auto\">0</div></td><td><div style=\"text-align:left; max-width:192px; max-height:64px; overflow:auto\">0</div></td><td><div style=\"text-align:left; max-width:192px; max-height:64px; overflow:auto\">7.44</div></td><td><div style=\"text-align:left; max-width:192px; max-height:64px; overflow:auto\">N</div></td><td><div style=\"text-align:left; max-width:192px; max-height:64px; overflow:auto\">N</div></td><td><div style=\"text-align:left; max-width:192px; max-height:64px; overflow:auto\"> </div></td><td><div style=\"text-align:left; max-width:192px; max-height:64px; overflow:auto\">N</div></td><td><div style=\"text-align:left; max-width:192px; max-height:64px; overflow:auto\">N</div></td></tr>\n",
       "<tr><td><div style=\"text-align:left; max-width:192px; max-height:64px; overflow:auto\">HV0003</div></td><td><div style=\"text-align:left; max-width:192px; max-height:64px; overflow:auto\">B03404</div></td><td><div style=\"text-align:left; max-width:192px; max-height:64px; overflow:auto\">B03404</div></td><td><div style=\"text-align:left; max-width:192px; max-height:64px; overflow:auto\">2022-01-01T00:34:44.000000+00:00</div></td><td><div style=\"text-align:left; max-width:192px; max-height:64px; overflow:auto\">2022-01-01T00:36:52.000000+00:00</div></td><td><div style=\"text-align:left; max-width:192px; max-height:64px; overflow:auto\">2022-01-01T00:38:50.000000+00:00</div></td><td><div style=\"text-align:left; max-width:192px; max-height:64px; overflow:auto\">2022-01-01T00:51:32.000000+00:00</div></td><td><div style=\"text-align:left; max-width:192px; max-height:64px; overflow:auto\">263</div></td><td><div style=\"text-align:left; max-width:192px; max-height:64px; overflow:auto\">79</div></td><td><div style=\"text-align:left; max-width:192px; max-height:64px; overflow:auto\">4.51</div></td><td><div style=\"text-align:left; max-width:192px; max-height:64px; overflow:auto\">762</div></td><td><div style=\"text-align:left; max-width:192px; max-height:64px; overflow:auto\">17.67</div></td><td><div style=\"text-align:left; max-width:192px; max-height:64px; overflow:auto\">0</div></td><td><div style=\"text-align:left; max-width:192px; max-height:64px; overflow:auto\">0.53</div></td><td><div style=\"text-align:left; max-width:192px; max-height:64px; overflow:auto\">1.57</div></td><td><div style=\"text-align:left; max-width:192px; max-height:64px; overflow:auto\">2.75</div></td><td><div style=\"text-align:left; max-width:192px; max-height:64px; overflow:auto\">0</div></td><td><div style=\"text-align:left; max-width:192px; max-height:64px; overflow:auto\">0</div></td><td><div style=\"text-align:left; max-width:192px; max-height:64px; overflow:auto\">12.25</div></td><td><div style=\"text-align:left; max-width:192px; max-height:64px; overflow:auto\">N</div></td><td><div style=\"text-align:left; max-width:192px; max-height:64px; overflow:auto\">N</div></td><td><div style=\"text-align:left; max-width:192px; max-height:64px; overflow:auto\"> </div></td><td><div style=\"text-align:left; max-width:192px; max-height:64px; overflow:auto\">N</div></td><td><div style=\"text-align:left; max-width:192px; max-height:64px; overflow:auto\">N</div></td></tr>\n",
       "<tr><td><div style=\"text-align:left; max-width:192px; max-height:64px; overflow:auto\">HV0003</div></td><td><div style=\"text-align:left; max-width:192px; max-height:64px; overflow:auto\">B03404</div></td><td><div style=\"text-align:left; max-width:192px; max-height:64px; overflow:auto\">B03404</div></td><td><div style=\"text-align:left; max-width:192px; max-height:64px; overflow:auto\">2022-01-01T00:47:51.000000+00:00</div></td><td><div style=\"text-align:left; max-width:192px; max-height:64px; overflow:auto\">2022-01-01T00:52:00.000000+00:00</div></td><td><div style=\"text-align:left; max-width:192px; max-height:64px; overflow:auto\">2022-01-01T00:53:25.000000+00:00</div></td><td><div style=\"text-align:left; max-width:192px; max-height:64px; overflow:auto\">2022-01-01T01:08:56.000000+00:00</div></td><td><div style=\"text-align:left; max-width:192px; max-height:64px; overflow:auto\">113</div></td><td><div style=\"text-align:left; max-width:192px; max-height:64px; overflow:auto\">140</div></td><td><div style=\"text-align:left; max-width:192px; max-height:64px; overflow:auto\">3.68</div></td><td><div style=\"text-align:left; max-width:192px; max-height:64px; overflow:auto\">931</div></td><td><div style=\"text-align:left; max-width:192px; max-height:64px; overflow:auto\">16.68</div></td><td><div style=\"text-align:left; max-width:192px; max-height:64px; overflow:auto\">0</div></td><td><div style=\"text-align:left; max-width:192px; max-height:64px; overflow:auto\">0.5</div></td><td><div style=\"text-align:left; max-width:192px; max-height:64px; overflow:auto\">1.48</div></td><td><div style=\"text-align:left; max-width:192px; max-height:64px; overflow:auto\">2.75</div></td><td><div style=\"text-align:left; max-width:192px; max-height:64px; overflow:auto\">0</div></td><td><div style=\"text-align:left; max-width:192px; max-height:64px; overflow:auto\">0</div></td><td><div style=\"text-align:left; max-width:192px; max-height:64px; overflow:auto\">12.75</div></td><td><div style=\"text-align:left; max-width:192px; max-height:64px; overflow:auto\">N</div></td><td><div style=\"text-align:left; max-width:192px; max-height:64px; overflow:auto\">N</div></td><td><div style=\"text-align:left; max-width:192px; max-height:64px; overflow:auto\"> </div></td><td><div style=\"text-align:left; max-width:192px; max-height:64px; overflow:auto\">N</div></td><td><div style=\"text-align:left; max-width:192px; max-height:64px; overflow:auto\">N</div></td></tr>\n",
       "<tr><td><div style=\"text-align:left; max-width:192px; max-height:64px; overflow:auto\">HV0003</div></td><td><div style=\"text-align:left; max-width:192px; max-height:64px; overflow:auto\">B03404</div></td><td><div style=\"text-align:left; max-width:192px; max-height:64px; overflow:auto\">B03404</div></td><td><div style=\"text-align:left; max-width:192px; max-height:64px; overflow:auto\">2022-01-01T00:06:21.000000+00:00</div></td><td><div style=\"text-align:left; max-width:192px; max-height:64px; overflow:auto\">2022-01-01T00:06:58.000000+00:00</div></td><td><div style=\"text-align:left; max-width:192px; max-height:64px; overflow:auto\">2022-01-01T00:08:58.000000+00:00</div></td><td><div style=\"text-align:left; max-width:192px; max-height:64px; overflow:auto\">2022-01-01T00:23:01.000000+00:00</div></td><td><div style=\"text-align:left; max-width:192px; max-height:64px; overflow:auto\">151</div></td><td><div style=\"text-align:left; max-width:192px; max-height:64px; overflow:auto\">75</div></td><td><div style=\"text-align:left; max-width:192px; max-height:64px; overflow:auto\">2.77</div></td><td><div style=\"text-align:left; max-width:192px; max-height:64px; overflow:auto\">843</div></td><td><div style=\"text-align:left; max-width:192px; max-height:64px; overflow:auto\">14.41</div></td><td><div style=\"text-align:left; max-width:192px; max-height:64px; overflow:auto\">0</div></td><td><div style=\"text-align:left; max-width:192px; max-height:64px; overflow:auto\">0.43</div></td><td><div style=\"text-align:left; max-width:192px; max-height:64px; overflow:auto\">1.28</div></td><td><div style=\"text-align:left; max-width:192px; max-height:64px; overflow:auto\">0</div></td><td><div style=\"text-align:left; max-width:192px; max-height:64px; overflow:auto\">0</div></td><td><div style=\"text-align:left; max-width:192px; max-height:64px; overflow:auto\">4</div></td><td><div style=\"text-align:left; max-width:192px; max-height:64px; overflow:auto\">11.47</div></td><td><div style=\"text-align:left; max-width:192px; max-height:64px; overflow:auto\">N</div></td><td><div style=\"text-align:left; max-width:192px; max-height:64px; overflow:auto\">N</div></td><td><div style=\"text-align:left; max-width:192px; max-height:64px; overflow:auto\"> </div></td><td><div style=\"text-align:left; max-width:192px; max-height:64px; overflow:auto\">N</div></td><td><div style=\"text-align:left; max-width:192px; max-height:64px; overflow:auto\">N</div></td></tr>\n",
       "</tbody>\n",
       "</table>\n",
       "<small>(Showing first 8 rows)</small>\n",
       "</div>"
      ],
      "text/plain": [
       "╭─────────────────┬─────────────────┬─────────────────┬─────────────┬────────────────┬────────────────┬────────────────╮\n",
       "│ hvfhs_license_n ┆ dispatching_bas ┆ originating_bas ┆      …      ┆ access_a_ride_ ┆ wav_request_fl ┆ wav_match_flag │\n",
       "│ um              ┆ e_num           ┆ e_num           ┆             ┆ flag           ┆ ag             ┆ ---            │\n",
       "│ ---             ┆ ---             ┆ ---             ┆ (18 hidden) ┆ ---            ┆ ---            ┆ Utf8           │\n",
       "│ Utf8            ┆ Utf8            ┆ Utf8            ┆             ┆ Utf8           ┆ Utf8           ┆                │\n",
       "╞═════════════════╪═════════════════╪═════════════════╪═════════════╪════════════════╪════════════════╪════════════════╡\n",
       "│ HV0003          ┆ B03404          ┆ B03404          ┆ …           ┆                ┆ N              ┆ N              │\n",
       "├╌╌╌╌╌╌╌╌╌╌╌╌╌╌╌╌╌┼╌╌╌╌╌╌╌╌╌╌╌╌╌╌╌╌╌┼╌╌╌╌╌╌╌╌╌╌╌╌╌╌╌╌╌┼╌╌╌╌╌╌╌╌╌╌╌╌╌┼╌╌╌╌╌╌╌╌╌╌╌╌╌╌╌╌┼╌╌╌╌╌╌╌╌╌╌╌╌╌╌╌╌┼╌╌╌╌╌╌╌╌╌╌╌╌╌╌╌╌┤\n",
       "│ HV0003          ┆ B03404          ┆ B03404          ┆ …           ┆                ┆ N              ┆ N              │\n",
       "├╌╌╌╌╌╌╌╌╌╌╌╌╌╌╌╌╌┼╌╌╌╌╌╌╌╌╌╌╌╌╌╌╌╌╌┼╌╌╌╌╌╌╌╌╌╌╌╌╌╌╌╌╌┼╌╌╌╌╌╌╌╌╌╌╌╌╌┼╌╌╌╌╌╌╌╌╌╌╌╌╌╌╌╌┼╌╌╌╌╌╌╌╌╌╌╌╌╌╌╌╌┼╌╌╌╌╌╌╌╌╌╌╌╌╌╌╌╌┤\n",
       "│ HV0003          ┆ B03404          ┆ B03404          ┆ …           ┆                ┆ N              ┆ N              │\n",
       "├╌╌╌╌╌╌╌╌╌╌╌╌╌╌╌╌╌┼╌╌╌╌╌╌╌╌╌╌╌╌╌╌╌╌╌┼╌╌╌╌╌╌╌╌╌╌╌╌╌╌╌╌╌┼╌╌╌╌╌╌╌╌╌╌╌╌╌┼╌╌╌╌╌╌╌╌╌╌╌╌╌╌╌╌┼╌╌╌╌╌╌╌╌╌╌╌╌╌╌╌╌┼╌╌╌╌╌╌╌╌╌╌╌╌╌╌╌╌┤\n",
       "│ HV0003          ┆ B03404          ┆ B03404          ┆ …           ┆                ┆ N              ┆ N              │\n",
       "├╌╌╌╌╌╌╌╌╌╌╌╌╌╌╌╌╌┼╌╌╌╌╌╌╌╌╌╌╌╌╌╌╌╌╌┼╌╌╌╌╌╌╌╌╌╌╌╌╌╌╌╌╌┼╌╌╌╌╌╌╌╌╌╌╌╌╌┼╌╌╌╌╌╌╌╌╌╌╌╌╌╌╌╌┼╌╌╌╌╌╌╌╌╌╌╌╌╌╌╌╌┼╌╌╌╌╌╌╌╌╌╌╌╌╌╌╌╌┤\n",
       "│ HV0003          ┆ B03404          ┆ B03404          ┆ …           ┆                ┆ N              ┆ N              │\n",
       "├╌╌╌╌╌╌╌╌╌╌╌╌╌╌╌╌╌┼╌╌╌╌╌╌╌╌╌╌╌╌╌╌╌╌╌┼╌╌╌╌╌╌╌╌╌╌╌╌╌╌╌╌╌┼╌╌╌╌╌╌╌╌╌╌╌╌╌┼╌╌╌╌╌╌╌╌╌╌╌╌╌╌╌╌┼╌╌╌╌╌╌╌╌╌╌╌╌╌╌╌╌┼╌╌╌╌╌╌╌╌╌╌╌╌╌╌╌╌┤\n",
       "│ HV0003          ┆ B03404          ┆ B03404          ┆ …           ┆                ┆ N              ┆ N              │\n",
       "├╌╌╌╌╌╌╌╌╌╌╌╌╌╌╌╌╌┼╌╌╌╌╌╌╌╌╌╌╌╌╌╌╌╌╌┼╌╌╌╌╌╌╌╌╌╌╌╌╌╌╌╌╌┼╌╌╌╌╌╌╌╌╌╌╌╌╌┼╌╌╌╌╌╌╌╌╌╌╌╌╌╌╌╌┼╌╌╌╌╌╌╌╌╌╌╌╌╌╌╌╌┼╌╌╌╌╌╌╌╌╌╌╌╌╌╌╌╌┤\n",
       "│ HV0003          ┆ B03404          ┆ B03404          ┆ …           ┆                ┆ N              ┆ N              │\n",
       "├╌╌╌╌╌╌╌╌╌╌╌╌╌╌╌╌╌┼╌╌╌╌╌╌╌╌╌╌╌╌╌╌╌╌╌┼╌╌╌╌╌╌╌╌╌╌╌╌╌╌╌╌╌┼╌╌╌╌╌╌╌╌╌╌╌╌╌┼╌╌╌╌╌╌╌╌╌╌╌╌╌╌╌╌┼╌╌╌╌╌╌╌╌╌╌╌╌╌╌╌╌┼╌╌╌╌╌╌╌╌╌╌╌╌╌╌╌╌┤\n",
       "│ HV0003          ┆ B03404          ┆ B03404          ┆ …           ┆                ┆ N              ┆ N              │\n",
       "╰─────────────────┴─────────────────┴─────────────────┴─────────────┴────────────────┴────────────────┴────────────────╯\n",
       "\n",
       "(Showing first 8 rows)"
      ]
     },
     "metadata": {},
     "output_type": "display_data"
    }
   ],
   "source": [
    "big_df_sample.show()"
   ]
  },
  {
   "cell_type": "code",
   "execution_count": 13,
   "id": "b6a8c8ae-2d91-41b2-ba7f-645ad1f50ae5",
   "metadata": {},
   "outputs": [
    {
     "ename": "AttributeError",
     "evalue": "'DataFrame' object has no attribute 'write_iceberg'",
     "output_type": "error",
     "traceback": [
      "\u001b[0;31m---------------------------------------------------------------------------\u001b[0m",
      "\u001b[0;31mAttributeError\u001b[0m                            Traceback (most recent call last)",
      "Cell \u001b[0;32mIn[13], line 1\u001b[0m\n\u001b[0;32m----> 1\u001b[0m \u001b[43mbig_df_sample\u001b[49m\u001b[38;5;241;43m.\u001b[39;49m\u001b[43mwrite_iceberg\u001b[49m(local_table)\n",
      "\u001b[0;31mAttributeError\u001b[0m: 'DataFrame' object has no attribute 'write_iceberg'"
     ]
    }
   ],
   "source": [
    "big_df_sample.write_iceberg(local_table, \"overwrite\")"
   ]
  },
  {
   "cell_type": "code",
   "execution_count": null,
   "id": "1ffa1fa0-cd95-4009-b963-f416995eaf43",
   "metadata": {},
   "outputs": [],
   "source": []
  }
 ],
 "metadata": {
  "kernelspec": {
   "display_name": "Python 3 (ipykernel)",
   "language": "python",
   "name": "python3"
  },
  "language_info": {
   "codemirror_mode": {
    "name": "ipython",
    "version": 3
   },
   "file_extension": ".py",
   "mimetype": "text/x-python",
   "name": "python",
   "nbconvert_exporter": "python",
   "pygments_lexer": "ipython3",
   "version": "3.10.8"
  }
 },
 "nbformat": 4,
 "nbformat_minor": 5
}
