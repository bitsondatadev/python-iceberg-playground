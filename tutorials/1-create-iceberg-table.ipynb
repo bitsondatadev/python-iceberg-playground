{
 "cells": [
  {
   "cell_type": "code",
   "execution_count": 1,
   "id": "e949ee80-54f7-4fab-936e-9d83c94d758d",
   "metadata": {},
   "outputs": [],
   "source": [
    "from pyiceberg.catalog import load_catalog\n",
    "from pyiceberg.schema import Schema\n",
    "from pyiceberg.types import NestedField, StringType, DoubleType, LongType, TimestampType\n",
    "from pyiceberg.partitioning import PartitionSpec, PartitionField\n",
    "from pyiceberg.table.sorting import SortOrder, SortField\n",
    "from pyiceberg.transforms import MonthTransform, DayTransform"
   ]
  },
  {
   "cell_type": "code",
   "execution_count": 6,
   "id": "b6623e51-36ea-4c33-abbb-65d7f3cb66c1",
   "metadata": {},
   "outputs": [
    {
     "name": "stdout",
     "output_type": "stream",
     "text": [
      "catalog:\n",
      "   default:\n",
      "     type: glue\n",
      "     profile_name: default\n",
      "     region_name: us-west-2\n"
     ]
    }
   ],
   "source": [
    "!cat ~/.pyiceberg.yaml"
   ]
  },
  {
   "cell_type": "code",
   "execution_count": 2,
   "id": "f7d107f4-0622-4a17-87ce-048dba716954",
   "metadata": {},
   "outputs": [],
   "source": [
    "catalog = load_catalog()"
   ]
  },
  {
   "cell_type": "code",
   "execution_count": 7,
   "id": "a9553766-9b0b-4631-8a21-b0ef70eb955e",
   "metadata": {},
   "outputs": [],
   "source": [
    "schema = Schema(\n",
    "    NestedField(1, \"hvfhs_license_num\", StringType()),\n",
    "    NestedField(2, \"dispatching_base_num\", StringType()),\n",
    "    NestedField(3, \"originating_base_num\", StringType()),\n",
    "    NestedField(4, \"request_datetime\", TimestampType()),\n",
    "    NestedField(5, \"on_scene_datetime\", TimestampType()),\n",
    "    NestedField(6, \"pickup_datetime\", TimestampType()),\n",
    "    NestedField(7, \"dropoff_datetime\", TimestampType()),\n",
    "    NestedField(8, \"PULocationID\", LongType()),\n",
    "    NestedField(9, \"DOLocationID\", LongType()),\n",
    "    NestedField(10, \"trip_miles\", DoubleType()),\n",
    "    NestedField(11, \"trip_time\", LongType()),\n",
    "    NestedField(12, \"base_passenger_fare\", DoubleType()),\n",
    "    NestedField(13, \"tolls\", DoubleType()),\n",
    "    NestedField(14, \"bcf\", DoubleType()),\n",
    "    NestedField(15, \"sales_tax\", DoubleType()),\n",
    "    NestedField(16, \"congestion_surcharge\", DoubleType()),\n",
    "    NestedField(17, \"airport_fee\", DoubleType()),\n",
    "    NestedField(18, \"tips\", DoubleType()),\n",
    "    NestedField(19, \"driver_pay\", DoubleType()),\n",
    "    NestedField(20, \"shared_request_flag\", StringType()),\n",
    "    NestedField(21, \"shared_match_flag\", StringType()),\n",
    "    NestedField(22, \"access_a_ride_flag\", StringType()),\n",
    "    NestedField(23, \"wav_request_flag\", StringType()),\n",
    "    NestedField(24, \"wav_match_flag\", StringType()),\n",
    ")"
   ]
  },
  {
   "cell_type": "code",
   "execution_count": 8,
   "id": "1ea142eb-06a8-4d82-8cec-8b22cefa5be4",
   "metadata": {},
   "outputs": [],
   "source": [
    "partition_spec = PartitionSpec(\n",
    "    PartitionField(\n",
    "        source_id=6, field_id=1000, transform=MonthTransform(), name=\"pickup_datetime_month\"\n",
    "    )\n",
    ")\n",
    "sort_order = SortOrder(SortField(source_id=6, transform=DayTransform()))"
   ]
  },
  {
   "cell_type": "code",
   "execution_count": null,
   "id": "afd7a42d-da86-418b-aa8e-0f04acc19e7c",
   "metadata": {},
   "outputs": [],
   "source": [
    "catalog.create_table(\n",
    "    \"nyc_taxi.fvhfv\",\n",
    "    schema,\n",
    "    location=\"s3://daft-public-datasets/nyc-taxi-iceberg/hvfhv\",\n",
    "    partition_spec=partition_spec,\n",
    "    sort_order=sort_order,\n",
    ")"
   ]
  },
  {
   "cell_type": "code",
   "execution_count": null,
   "id": "52952e49-a41b-4409-a7c9-e942ae6d9d31",
   "metadata": {},
   "outputs": [],
   "source": []
  }
 ],
 "metadata": {
  "kernelspec": {
   "display_name": "Python 3 (ipykernel)",
   "language": "python",
   "name": "python3"
  },
  "language_info": {
   "codemirror_mode": {
    "name": "ipython",
    "version": 3
   },
   "file_extension": ".py",
   "mimetype": "text/x-python",
   "name": "python",
   "nbconvert_exporter": "python",
   "pygments_lexer": "ipython3",
   "version": "3.10.8"
  }
 },
 "nbformat": 4,
 "nbformat_minor": 5
}
