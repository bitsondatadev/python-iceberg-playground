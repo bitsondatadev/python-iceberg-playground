{
 "cells": [
  {
   "cell_type": "code",
   "execution_count": 1,
   "id": "a40fe871-4929-46a6-8bab-e9cfe3253b17",
   "metadata": {},
   "outputs": [],
   "source": [
    "import daft"
   ]
  },
  {
   "cell_type": "code",
   "execution_count": 2,
   "id": "ee259011-c964-4366-9c7b-bf8281650000",
   "metadata": {},
   "outputs": [
    {
     "data": {
      "text/plain": [
       "DaftContext(_daft_execution_config=<daft.daft.PyDaftExecutionConfig object at 0x10585f450>, _daft_planning_config=<daft.daft.PyDaftPlanningConfig object at 0x10585f530>, _runner_config=_RayRunnerConfig(address=None, max_task_backlog=None), _disallow_set_runner=True, _runner=None)"
      ]
     },
     "execution_count": 2,
     "metadata": {},
     "output_type": "execute_result"
    }
   ],
   "source": [
    "daft.context.set_runner_ray(\n",
    "    # Insert address of cluster here\n",
    "    # address=\"ray://my-cluster:10001\"\n",
    ")"
   ]
  },
  {
   "cell_type": "code",
   "execution_count": 3,
   "id": "590563c0-1068-4db7-a078-7c908635f344",
   "metadata": {},
   "outputs": [],
   "source": [
    "import daft\n",
    "from pyiceberg.catalog import load_catalog\n",
    "\n",
    "catalog = load_catalog()\n",
    "table = catalog.load_table(\"nyc_taxi.fhvhv\")"
   ]
  },
  {
   "cell_type": "code",
   "execution_count": 4,
   "id": "2f985676-cd29-4a55-b632-07ebe0e892e3",
   "metadata": {},
   "outputs": [
    {
     "name": "stderr",
     "output_type": "stream",
     "text": [
      "2024-03-20 01:37:00,941\tINFO worker.py:1724 -- Started a local Ray instance.\n",
      "WARNING:root:IcebergScanOperator(default.nyc_taxi.fhvhv) has Partitioning Keys: [PartitionField(pickup_datetime_month#Int32, src=pickup_datetime#Timestamp(Microseconds, Some(\"UTC\")), tfm=Month)] but no partition filter was specified. This will result in a full table scan.\n"
     ]
    },
    {
     "data": {
      "application/vnd.jupyter.widget-view+json": {
       "model_id": "",
       "version_major": 2,
       "version_minor": 0
      },
      "text/plain": [
       "ScanWithTask-Aggregate [Stage:2]:   0%|          | 0/1 [00:00<?, ?it/s]"
      ]
     },
     "metadata": {},
     "output_type": "display_data"
    },
    {
     "data": {
      "application/vnd.jupyter.widget-view+json": {
       "model_id": "",
       "version_major": 2,
       "version_minor": 0
      },
      "text/plain": [
       "ReduceMerge-Aggregate-Project-Project [Stage:1]:   0%|          | 0/1 [00:00<?, ?it/s]"
      ]
     },
     "metadata": {},
     "output_type": "display_data"
    },
    {
     "data": {
      "text/plain": [
       "212416083"
      ]
     },
     "execution_count": 4,
     "metadata": {},
     "output_type": "execute_result"
    }
   ],
   "source": [
    "df = daft.read_iceberg(table)\n",
    "df.count_rows()"
   ]
  },
  {
   "cell_type": "code",
   "execution_count": null,
   "id": "e9ba4c71-19cb-4fe0-972a-11c3886b5c07",
   "metadata": {},
   "outputs": [],
   "source": []
  }
 ],
 "metadata": {
  "kernelspec": {
   "display_name": "Python 3 (ipykernel)",
   "language": "python",
   "name": "python3"
  },
  "language_info": {
   "codemirror_mode": {
    "name": "ipython",
    "version": 3
   },
   "file_extension": ".py",
   "mimetype": "text/x-python",
   "name": "python",
   "nbconvert_exporter": "python",
   "pygments_lexer": "ipython3",
   "version": "3.10.8"
  }
 },
 "nbformat": 4,
 "nbformat_minor": 5
}
