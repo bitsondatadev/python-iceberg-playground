{
 "cells": [
  {
   "cell_type": "code",
   "execution_count": 1,
   "id": "a40fe871-4929-46a6-8bab-e9cfe3253b17",
   "metadata": {},
   "outputs": [],
   "source": [
    "import daft"
   ]
  },
  {
   "cell_type": "code",
   "execution_count": 2,
   "id": "ee259011-c964-4366-9c7b-bf8281650000",
   "metadata": {},
   "outputs": [
    {
     "data": {
      "text/plain": [
       "DaftContext(_daft_execution_config=<daft.daft.PyDaftExecutionConfig object at 0x10965b630>, _daft_planning_config=<daft.daft.PyDaftPlanningConfig object at 0x10965b590>, _runner_config=_RayRunnerConfig(address=None, max_task_backlog=None), _disallow_set_runner=True, _runner=None)"
      ]
     },
     "execution_count": 2,
     "metadata": {},
     "output_type": "execute_result"
    }
   ],
   "source": [
    "daft.context.set_runner_ray(\n",
    "    # Insert address of cluster here\n",
    "    # address=\"ray://my-cluster:10001\"\n",
    ")"
   ]
  },
  {
   "cell_type": "code",
   "execution_count": 3,
   "id": "590563c0-1068-4db7-a078-7c908635f344",
   "metadata": {},
   "outputs": [],
   "source": [
    "import daft\n",
    "from pyiceberg.catalog import load_catalog\n",
    "\n",
    "catalog = load_catalog()\n",
    "table = catalog.load_table(\"nyc_taxi.fhvhv\")"
   ]
  },
  {
   "cell_type": "code",
   "execution_count": 4,
   "id": "2f985676-cd29-4a55-b632-07ebe0e892e3",
   "metadata": {
    "scrolled": true
   },
   "outputs": [
    {
     "name": "stderr",
     "output_type": "stream",
     "text": [
      "2024-03-20 10:27:50,151\tINFO worker.py:1724 -- Started a local Ray instance.\n",
      "WARNING:root:IcebergScanOperator(default.nyc_taxi.fhvhv) has Partitioning Keys: [PartitionField(pickup_datetime_month#Int32, src=pickup_datetime#Timestamp(Microseconds, Some(\"UTC\")), tfm=Month)] but no partition filter was specified. This will result in a full table scan.\n"
     ]
    },
    {
     "data": {
      "application/vnd.jupyter.widget-view+json": {
       "model_id": "1f4639dc568442659a39185a744cb431",
       "version_major": 2,
       "version_minor": 0
      },
      "text/plain": [
       "ScanWithTask-Aggregate [Stage:2]:   0%|          | 0/1 [00:00<?, ?it/s]"
      ]
     },
     "metadata": {},
     "output_type": "display_data"
    },
    {
     "data": {
      "application/vnd.jupyter.widget-view+json": {
       "model_id": "6bd4d5c59a25487ea8deeaa4354ae3fa",
       "version_major": 2,
       "version_minor": 0
      },
      "text/plain": [
       "ReduceMerge-Aggregate-Project-Project [Stage:1]:   0%|          | 0/1 [00:00<?, ?it/s]"
      ]
     },
     "metadata": {},
     "output_type": "display_data"
    },
    {
     "data": {
      "text/plain": [
       "212416083"
      ]
     },
     "execution_count": 4,
     "metadata": {},
     "output_type": "execute_result"
    }
   ],
   "source": [
    "df = daft.read_iceberg(table)\n",
    "df.count_rows()"
   ]
  },
  {
   "cell_type": "code",
   "execution_count": 5,
   "id": "e9ba4c71-19cb-4fe0-972a-11c3886b5c07",
   "metadata": {},
   "outputs": [
    {
     "name": "stderr",
     "output_type": "stream",
     "text": [
      "WARNING:root:IcebergScanOperator(default.nyc_taxi.fhvhv) has Partitioning Keys: [PartitionField(pickup_datetime_month#Int32, src=pickup_datetime#Timestamp(Microseconds, Some(\"UTC\")), tfm=Month)] but no partition filter was specified. This will result in a full table scan.\n"
     ]
    },
    {
     "data": {
      "application/vnd.jupyter.widget-view+json": {
       "model_id": "",
       "version_major": 2,
       "version_minor": 0
      },
      "text/plain": [
       "ScanWithTask-Project-Aggregate-FanoutHash [Stage:5]:   0%|          | 0/1 [00:00<?, ?it/s]"
      ]
     },
     "metadata": {},
     "output_type": "display_data"
    },
    {
     "data": {
      "application/vnd.jupyter.widget-view+json": {
       "model_id": "",
       "version_major": 2,
       "version_minor": 0
      },
      "text/plain": [
       "ReduceMerge-Aggregate-Project [Stage:4]:   0%|          | 0/1 [00:00<?, ?it/s]"
      ]
     },
     "metadata": {},
     "output_type": "display_data"
    },
    {
     "data": {
      "application/vnd.jupyter.widget-view+json": {
       "model_id": "",
       "version_major": 2,
       "version_minor": 0
      },
      "text/plain": [
       "Sample [Stage:6]:   0%|          | 0/1 [00:00<?, ?it/s]"
      ]
     },
     "metadata": {},
     "output_type": "display_data"
    },
    {
     "data": {
      "application/vnd.jupyter.widget-view+json": {
       "model_id": "",
       "version_major": 2,
       "version_minor": 0
      },
      "text/plain": [
       "ReduceToQuantiles [Stage:7]:   0%|          | 0/1 [00:00<?, ?it/s]"
      ]
     },
     "metadata": {},
     "output_type": "display_data"
    },
    {
     "data": {
      "application/vnd.jupyter.widget-view+json": {
       "model_id": "",
       "version_major": 2,
       "version_minor": 0
      },
      "text/plain": [
       "FanoutRange [Stage:8]:   0%|          | 0/1 [00:00<?, ?it/s]"
      ]
     },
     "metadata": {},
     "output_type": "display_data"
    },
    {
     "data": {
      "application/vnd.jupyter.widget-view+json": {
       "model_id": "",
       "version_major": 2,
       "version_minor": 0
      },
      "text/plain": [
       "ReduceMergeAndSort [Stage:3]:   0%|          | 0/1 [00:00<?, ?it/s]"
      ]
     },
     "metadata": {},
     "output_type": "display_data"
    },
    {
     "data": {
      "text/html": [
       "<div>\n",
       "<table class=\"dataframe\">\n",
       "<thead><tr><th style=\"text-wrap: nowrap; max-width:192px; overflow:auto; text-align:left\">pickup_datetime<br />Date</th><th style=\"text-wrap: nowrap; max-width:192px; overflow:auto; text-align:left\">trip_time<br />Int64</th><th style=\"text-wrap: nowrap; max-width:192px; overflow:auto; text-align:left\">fare_plus_tolls<br />Float32</th></tr></thead>\n",
       "<tbody>\n",
       "<tr><td><div style=\"text-align:left; max-width:192px; max-height:64px; overflow:auto\">2022-01-01</div></td><td><div style=\"text-align:left; max-width:192px; max-height:64px; overflow:auto\">476689058</div></td><td><div style=\"text-align:left; max-width:192px; max-height:64px; overflow:auto\">11388624</div></td></tr>\n",
       "<tr><td><div style=\"text-align:left; max-width:192px; max-height:64px; overflow:auto\">2022-01-02</div></td><td><div style=\"text-align:left; max-width:192px; max-height:64px; overflow:auto\">357439522</div></td><td><div style=\"text-align:left; max-width:192px; max-height:64px; overflow:auto\">8020001.5</div></td></tr>\n",
       "<tr><td><div style=\"text-align:left; max-width:192px; max-height:64px; overflow:auto\">2022-01-03</div></td><td><div style=\"text-align:left; max-width:192px; max-height:64px; overflow:auto\">394632767</div></td><td><div style=\"text-align:left; max-width:192px; max-height:64px; overflow:auto\">8248339</div></td></tr>\n",
       "<tr><td><div style=\"text-align:left; max-width:192px; max-height:64px; overflow:auto\">2022-01-04</div></td><td><div style=\"text-align:left; max-width:192px; max-height:64px; overflow:auto\">386754975</div></td><td><div style=\"text-align:left; max-width:192px; max-height:64px; overflow:auto\">7875813</div></td></tr>\n",
       "<tr><td><div style=\"text-align:left; max-width:192px; max-height:64px; overflow:auto\">2022-01-05</div></td><td><div style=\"text-align:left; max-width:192px; max-height:64px; overflow:auto\">397460543</div></td><td><div style=\"text-align:left; max-width:192px; max-height:64px; overflow:auto\">7890997.5</div></td></tr>\n",
       "<tr><td><div style=\"text-align:left; max-width:192px; max-height:64px; overflow:auto\">2022-01-06</div></td><td><div style=\"text-align:left; max-width:192px; max-height:64px; overflow:auto\">424654888</div></td><td><div style=\"text-align:left; max-width:192px; max-height:64px; overflow:auto\">8332166.5</div></td></tr>\n",
       "<tr><td><div style=\"text-align:left; max-width:192px; max-height:64px; overflow:auto\">2022-01-07</div></td><td><div style=\"text-align:left; max-width:192px; max-height:64px; overflow:auto\">456685599</div></td><td><div style=\"text-align:left; max-width:192px; max-height:64px; overflow:auto\">9474772</div></td></tr>\n",
       "<tr><td><div style=\"text-align:left; max-width:192px; max-height:64px; overflow:auto\">2022-01-08</div></td><td><div style=\"text-align:left; max-width:192px; max-height:64px; overflow:auto\">501159393</div></td><td><div style=\"text-align:left; max-width:192px; max-height:64px; overflow:auto\">10046370</div></td></tr>\n",
       "</tbody>\n",
       "</table>\n",
       "<small>(Showing first 8 of 365 rows)</small>\n",
       "</div>"
      ],
      "text/plain": [
       "╭─────────────────┬───────────┬─────────────────╮\n",
       "│ pickup_datetime ┆ trip_time ┆ fare_plus_tolls │\n",
       "│ ---             ┆ ---       ┆ ---             │\n",
       "│ Date            ┆ Int64     ┆ Float32         │\n",
       "╞═════════════════╪═══════════╪═════════════════╡\n",
       "│ 2022-01-01      ┆ 476689058 ┆ 11388624        │\n",
       "├╌╌╌╌╌╌╌╌╌╌╌╌╌╌╌╌╌┼╌╌╌╌╌╌╌╌╌╌╌┼╌╌╌╌╌╌╌╌╌╌╌╌╌╌╌╌╌┤\n",
       "│ 2022-01-02      ┆ 357439522 ┆ 8020001.5       │\n",
       "├╌╌╌╌╌╌╌╌╌╌╌╌╌╌╌╌╌┼╌╌╌╌╌╌╌╌╌╌╌┼╌╌╌╌╌╌╌╌╌╌╌╌╌╌╌╌╌┤\n",
       "│ 2022-01-03      ┆ 394632767 ┆ 8248339         │\n",
       "├╌╌╌╌╌╌╌╌╌╌╌╌╌╌╌╌╌┼╌╌╌╌╌╌╌╌╌╌╌┼╌╌╌╌╌╌╌╌╌╌╌╌╌╌╌╌╌┤\n",
       "│ 2022-01-04      ┆ 386754975 ┆ 7875813         │\n",
       "├╌╌╌╌╌╌╌╌╌╌╌╌╌╌╌╌╌┼╌╌╌╌╌╌╌╌╌╌╌┼╌╌╌╌╌╌╌╌╌╌╌╌╌╌╌╌╌┤\n",
       "│ 2022-01-05      ┆ 397460543 ┆ 7890997.5       │\n",
       "├╌╌╌╌╌╌╌╌╌╌╌╌╌╌╌╌╌┼╌╌╌╌╌╌╌╌╌╌╌┼╌╌╌╌╌╌╌╌╌╌╌╌╌╌╌╌╌┤\n",
       "│ 2022-01-06      ┆ 424654888 ┆ 8332166.5       │\n",
       "├╌╌╌╌╌╌╌╌╌╌╌╌╌╌╌╌╌┼╌╌╌╌╌╌╌╌╌╌╌┼╌╌╌╌╌╌╌╌╌╌╌╌╌╌╌╌╌┤\n",
       "│ 2022-01-07      ┆ 456685599 ┆ 9474772         │\n",
       "├╌╌╌╌╌╌╌╌╌╌╌╌╌╌╌╌╌┼╌╌╌╌╌╌╌╌╌╌╌┼╌╌╌╌╌╌╌╌╌╌╌╌╌╌╌╌╌┤\n",
       "│ 2022-01-08      ┆ 501159393 ┆ 10046370        │\n",
       "╰─────────────────┴───────────┴─────────────────╯\n",
       "\n",
       "(Showing first 8 of 365 rows)"
      ]
     },
     "execution_count": 5,
     "metadata": {},
     "output_type": "execute_result"
    }
   ],
   "source": [
    "aggregated_df = (\n",
    "    df\n",
    "    .groupby(daft.col(\"pickup_datetime\").cast(daft.DataType.date()))\n",
    "    .sum(\n",
    "        df[\"trip_time\"],\n",
    "        (df[\"base_passenger_fare\"] + df[\"tolls\"]).alias(\"fare_plus_tolls\")\n",
    "    )\n",
    "    .sort(\"pickup_datetime\")\n",
    ")\n",
    "aggregated_df.collect()"
   ]
  },
  {
   "cell_type": "code",
   "execution_count": null,
   "id": "cde4d7e4-a1c0-4b5d-8af7-e69003968eb8",
   "metadata": {},
   "outputs": [],
   "source": []
  }
 ],
 "metadata": {
  "kernelspec": {
   "display_name": "Python 3 (ipykernel)",
   "language": "python",
   "name": "python3"
  },
  "language_info": {
   "codemirror_mode": {
    "name": "ipython",
    "version": 3
   },
   "file_extension": ".py",
   "mimetype": "text/x-python",
   "name": "python",
   "nbconvert_exporter": "python",
   "pygments_lexer": "ipython3",
   "version": "3.10.8"
  }
 },
 "nbformat": 4,
 "nbformat_minor": 5
}
