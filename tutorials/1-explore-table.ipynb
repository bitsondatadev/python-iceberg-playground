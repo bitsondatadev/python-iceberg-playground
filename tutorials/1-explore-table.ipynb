{
 "cells": [
  {
   "cell_type": "code",
   "execution_count": 1,
   "id": "799da93e-f731-4254-b237-c65e762e0a02",
   "metadata": {},
   "outputs": [],
   "source": [
    "import daft\n",
    "from pyiceberg.catalog import load_catalog"
   ]
  },
  {
   "cell_type": "code",
   "execution_count": 2,
   "id": "acec12b3-992d-42e8-9a74-e86364ef7afb",
   "metadata": {},
   "outputs": [
    {
     "name": "stdout",
     "output_type": "stream",
     "text": [
      "catalog:\n",
      "   default:\n",
      "     type: glue\n",
      "     profile_name: default\n",
      "     region_name: us-west-2\n"
     ]
    }
   ],
   "source": [
    "!cat ~/.pyiceberg.yaml"
   ]
  },
  {
   "cell_type": "code",
   "execution_count": 3,
   "id": "1e305c48-3d5a-40c3-94fe-2b7afb34c17e",
   "metadata": {},
   "outputs": [
    {
     "name": "stdout",
     "output_type": "stream",
     "text": [
      "Namespaces: [('benchmark_many_partitions',), ('default',), ('nyc_taxi',), ('red-pajamas',), ('tpch-benchmark',), ('tpch-glue-test',), ('tpch_iceberg_sf100',), ('tpch_iceberg_sf1000',)] \n",
      "\n",
      "Tables: [('nyc_taxi', 'fhvhv')]\n"
     ]
    }
   ],
   "source": [
    "catalog = load_catalog()\n",
    "print(\"Namespaces:\", catalog.list_namespaces(), \"\\n\")\n",
    "print(\"Tables:\", catalog.list_tables(\"nyc_taxi\"))"
   ]
  },
  {
   "cell_type": "code",
   "execution_count": 4,
   "id": "82577bf9-b62b-4962-b3fb-1932d16d6783",
   "metadata": {},
   "outputs": [],
   "source": [
    "table = catalog.load_table(\"nyc_taxi.fhvhv\")"
   ]
  },
  {
   "cell_type": "code",
   "execution_count": 5,
   "id": "e3bdef68-ac4c-4fa3-8898-ccd16be7f2b1",
   "metadata": {},
   "outputs": [
    {
     "data": {
      "text/plain": [
       "fhvhv(\n",
       "  1: hvfhs_license_num: optional string,\n",
       "  2: dispatching_base_num: optional string,\n",
       "  3: originating_base_num: optional string,\n",
       "  4: request_datetime: optional timestamptz,\n",
       "  5: on_scene_datetime: optional timestamptz,\n",
       "  6: pickup_datetime: optional timestamptz,\n",
       "  7: dropoff_datetime: optional timestamptz,\n",
       "  8: PULocationID: optional int,\n",
       "  9: DOLocationID: optional int,\n",
       "  10: trip_miles: optional float,\n",
       "  11: trip_time: optional int,\n",
       "  12: base_passenger_fare: optional float,\n",
       "  13: tolls: optional float,\n",
       "  14: bcf: optional float,\n",
       "  15: sales_tax: optional float,\n",
       "  16: congestion_surcharge: optional float,\n",
       "  17: airport_fee: optional float,\n",
       "  18: tips: optional float,\n",
       "  19: driver_pay: optional float,\n",
       "  20: shared_request_flag: optional string,\n",
       "  21: shared_match_flag: optional string,\n",
       "  22: access_a_ride_flag: optional string,\n",
       "  23: wav_request_flag: optional string,\n",
       "  24: wav_match_flag: optional string\n",
       "),\n",
       "partition by: [pickup_datetime_month],\n",
       "sort order: [],\n",
       "snapshot: Operation.APPEND: id=1278156480109515355, schema_id=0"
      ]
     },
     "execution_count": 5,
     "metadata": {},
     "output_type": "execute_result"
    }
   ],
   "source": [
    "table"
   ]
  },
  {
   "cell_type": "code",
   "execution_count": 6,
   "id": "6a03161f-dd85-48df-bf0b-73897189a5c7",
   "metadata": {},
   "outputs": [],
   "source": [
    "df = daft.read_iceberg(table)"
   ]
  },
  {
   "cell_type": "code",
   "execution_count": 7,
   "id": "37fade06-ed88-438a-878b-36516d149204",
   "metadata": {},
   "outputs": [
    {
     "data": {
      "text/html": [
       "<div>\n",
       "<table class=\"dataframe\">\n",
       "<thead><tr><th style=\"text-wrap: nowrap; max-width:192px; overflow:auto; text-align:left\">hvfhs_license_num<br />Utf8</th><th style=\"text-wrap: nowrap; max-width:192px; overflow:auto; text-align:left\">dispatching_base_num<br />Utf8</th><th style=\"text-wrap: nowrap; max-width:192px; overflow:auto; text-align:left\">originating_base_num<br />Utf8</th><th style=\"text-wrap: nowrap; max-width:192px; overflow:auto; text-align:left\">request_datetime<br />Timestamp(Microseconds, Some(\"UTC\"))</th><th style=\"text-wrap: nowrap; max-width:192px; overflow:auto; text-align:left\">on_scene_datetime<br />Timestamp(Microseconds, Some(\"UTC\"))</th><th style=\"text-wrap: nowrap; max-width:192px; overflow:auto; text-align:left\">pickup_datetime<br />Timestamp(Microseconds, Some(\"UTC\"))</th><th style=\"text-wrap: nowrap; max-width:192px; overflow:auto; text-align:left\">dropoff_datetime<br />Timestamp(Microseconds, Some(\"UTC\"))</th><th style=\"text-wrap: nowrap; max-width:192px; overflow:auto; text-align:left\">PULocationID<br />Int32</th><th style=\"text-wrap: nowrap; max-width:192px; overflow:auto; text-align:left\">DOLocationID<br />Int32</th><th style=\"text-wrap: nowrap; max-width:192px; overflow:auto; text-align:left\">trip_miles<br />Float32</th><th style=\"text-wrap: nowrap; max-width:192px; overflow:auto; text-align:left\">trip_time<br />Int32</th><th style=\"text-wrap: nowrap; max-width:192px; overflow:auto; text-align:left\">base_passenger_fare<br />Float32</th><th style=\"text-wrap: nowrap; max-width:192px; overflow:auto; text-align:left\">tolls<br />Float32</th><th style=\"text-wrap: nowrap; max-width:192px; overflow:auto; text-align:left\">bcf<br />Float32</th><th style=\"text-wrap: nowrap; max-width:192px; overflow:auto; text-align:left\">sales_tax<br />Float32</th><th style=\"text-wrap: nowrap; max-width:192px; overflow:auto; text-align:left\">congestion_surcharge<br />Float32</th><th style=\"text-wrap: nowrap; max-width:192px; overflow:auto; text-align:left\">airport_fee<br />Float32</th><th style=\"text-wrap: nowrap; max-width:192px; overflow:auto; text-align:left\">tips<br />Float32</th><th style=\"text-wrap: nowrap; max-width:192px; overflow:auto; text-align:left\">driver_pay<br />Float32</th><th style=\"text-wrap: nowrap; max-width:192px; overflow:auto; text-align:left\">shared_request_flag<br />Utf8</th><th style=\"text-wrap: nowrap; max-width:192px; overflow:auto; text-align:left\">shared_match_flag<br />Utf8</th><th style=\"text-wrap: nowrap; max-width:192px; overflow:auto; text-align:left\">access_a_ride_flag<br />Utf8</th><th style=\"text-wrap: nowrap; max-width:192px; overflow:auto; text-align:left\">wav_request_flag<br />Utf8</th><th style=\"text-wrap: nowrap; max-width:192px; overflow:auto; text-align:left\">wav_match_flag<br />Utf8</th></tr></thead>\n",
       "</table>\n",
       "<small>(No data to display: Dataframe not materialized)</small>\n",
       "</div>"
      ],
      "text/plain": [
       "╭─────────────────┬─────────────────┬─────────────────┬─────────────┬────────────────┬────────────────┬────────────────╮\n",
       "│ hvfhs_license_n ┆ dispatching_bas ┆ originating_bas ┆      …      ┆ access_a_ride_ ┆ wav_request_fl ┆ wav_match_flag │\n",
       "│ um              ┆ e_num           ┆ e_num           ┆             ┆ flag           ┆ ag             ┆ ---            │\n",
       "│ ---             ┆ ---             ┆ ---             ┆ (18 hidden) ┆ ---            ┆ ---            ┆ Utf8           │\n",
       "│ Utf8            ┆ Utf8            ┆ Utf8            ┆             ┆ Utf8           ┆ Utf8           ┆                │\n",
       "╰─────────────────┴─────────────────┴─────────────────┴─────────────┴────────────────┴────────────────┴────────────────╯\n",
       "\n",
       "(No data to display: Dataframe not materialized)"
      ]
     },
     "execution_count": 7,
     "metadata": {},
     "output_type": "execute_result"
    }
   ],
   "source": [
    "df"
   ]
  },
  {
   "cell_type": "code",
   "execution_count": 8,
   "id": "1b76888a-a66f-4193-8239-56e803b4aa4e",
   "metadata": {},
   "outputs": [
    {
     "data": {
      "text/html": [
       "<div>\n",
       "<table class=\"dataframe\">\n",
       "<thead><tr><th style=\"text-wrap: nowrap; max-width:192px; overflow:auto; text-align:left\">hvfhs_license_num<br />Utf8</th><th style=\"text-wrap: nowrap; max-width:192px; overflow:auto; text-align:left\">dispatching_base_num<br />Utf8</th><th style=\"text-wrap: nowrap; max-width:192px; overflow:auto; text-align:left\">originating_base_num<br />Utf8</th><th style=\"text-wrap: nowrap; max-width:192px; overflow:auto; text-align:left\">request_datetime<br />Timestamp(Microseconds, Some(\"UTC\"))</th><th style=\"text-wrap: nowrap; max-width:192px; overflow:auto; text-align:left\">on_scene_datetime<br />Timestamp(Microseconds, Some(\"UTC\"))</th><th style=\"text-wrap: nowrap; max-width:192px; overflow:auto; text-align:left\">pickup_datetime<br />Timestamp(Microseconds, Some(\"UTC\"))</th><th style=\"text-wrap: nowrap; max-width:192px; overflow:auto; text-align:left\">dropoff_datetime<br />Timestamp(Microseconds, Some(\"UTC\"))</th><th style=\"text-wrap: nowrap; max-width:192px; overflow:auto; text-align:left\">PULocationID<br />Int32</th><th style=\"text-wrap: nowrap; max-width:192px; overflow:auto; text-align:left\">DOLocationID<br />Int32</th><th style=\"text-wrap: nowrap; max-width:192px; overflow:auto; text-align:left\">trip_miles<br />Float32</th><th style=\"text-wrap: nowrap; max-width:192px; overflow:auto; text-align:left\">trip_time<br />Int32</th><th style=\"text-wrap: nowrap; max-width:192px; overflow:auto; text-align:left\">base_passenger_fare<br />Float32</th><th style=\"text-wrap: nowrap; max-width:192px; overflow:auto; text-align:left\">tolls<br />Float32</th><th style=\"text-wrap: nowrap; max-width:192px; overflow:auto; text-align:left\">bcf<br />Float32</th><th style=\"text-wrap: nowrap; max-width:192px; overflow:auto; text-align:left\">sales_tax<br />Float32</th><th style=\"text-wrap: nowrap; max-width:192px; overflow:auto; text-align:left\">congestion_surcharge<br />Float32</th><th style=\"text-wrap: nowrap; max-width:192px; overflow:auto; text-align:left\">airport_fee<br />Float32</th><th style=\"text-wrap: nowrap; max-width:192px; overflow:auto; text-align:left\">tips<br />Float32</th><th style=\"text-wrap: nowrap; max-width:192px; overflow:auto; text-align:left\">driver_pay<br />Float32</th><th style=\"text-wrap: nowrap; max-width:192px; overflow:auto; text-align:left\">shared_request_flag<br />Utf8</th><th style=\"text-wrap: nowrap; max-width:192px; overflow:auto; text-align:left\">shared_match_flag<br />Utf8</th><th style=\"text-wrap: nowrap; max-width:192px; overflow:auto; text-align:left\">access_a_ride_flag<br />Utf8</th><th style=\"text-wrap: nowrap; max-width:192px; overflow:auto; text-align:left\">wav_request_flag<br />Utf8</th><th style=\"text-wrap: nowrap; max-width:192px; overflow:auto; text-align:left\">wav_match_flag<br />Utf8</th></tr></thead>\n",
       "<tbody>\n",
       "<tr><td><div style=\"text-align:left; max-width:192px; max-height:64px; overflow:auto\">HV0003</div></td><td><div style=\"text-align:left; max-width:192px; max-height:64px; overflow:auto\">B03404</div></td><td><div style=\"text-align:left; max-width:192px; max-height:64px; overflow:auto\">B03404</div></td><td><div style=\"text-align:left; max-width:192px; max-height:64px; overflow:auto\">2022-10-01T00:07:49.000000+00:00</div></td><td><div style=\"text-align:left; max-width:192px; max-height:64px; overflow:auto\">2022-10-01T00:10:31.000000+00:00</div></td><td><div style=\"text-align:left; max-width:192px; max-height:64px; overflow:auto\">2022-10-01T00:10:31.000000+00:00</div></td><td><div style=\"text-align:left; max-width:192px; max-height:64px; overflow:auto\">2022-10-01T00:21:47.000000+00:00</div></td><td><div style=\"text-align:left; max-width:192px; max-height:64px; overflow:auto\">235</div></td><td><div style=\"text-align:left; max-width:192px; max-height:64px; overflow:auto\">174</div></td><td><div style=\"text-align:left; max-width:192px; max-height:64px; overflow:auto\">3.65</div></td><td><div style=\"text-align:left; max-width:192px; max-height:64px; overflow:auto\">676</div></td><td><div style=\"text-align:left; max-width:192px; max-height:64px; overflow:auto\">14.01</div></td><td><div style=\"text-align:left; max-width:192px; max-height:64px; overflow:auto\">0</div></td><td><div style=\"text-align:left; max-width:192px; max-height:64px; overflow:auto\">0.42</div></td><td><div style=\"text-align:left; max-width:192px; max-height:64px; overflow:auto\">1.24</div></td><td><div style=\"text-align:left; max-width:192px; max-height:64px; overflow:auto\">0</div></td><td><div style=\"text-align:left; max-width:192px; max-height:64px; overflow:auto\">0</div></td><td><div style=\"text-align:left; max-width:192px; max-height:64px; overflow:auto\">0</div></td><td><div style=\"text-align:left; max-width:192px; max-height:64px; overflow:auto\">12.39</div></td><td><div style=\"text-align:left; max-width:192px; max-height:64px; overflow:auto\">N</div></td><td><div style=\"text-align:left; max-width:192px; max-height:64px; overflow:auto\">N</div></td><td><div style=\"text-align:left; max-width:192px; max-height:64px; overflow:auto\"> </div></td><td><div style=\"text-align:left; max-width:192px; max-height:64px; overflow:auto\">N</div></td><td><div style=\"text-align:left; max-width:192px; max-height:64px; overflow:auto\">N</div></td></tr>\n",
       "<tr><td><div style=\"text-align:left; max-width:192px; max-height:64px; overflow:auto\">HV0005</div></td><td><div style=\"text-align:left; max-width:192px; max-height:64px; overflow:auto\">B03406</div></td><td><div style=\"text-align:left; max-width:192px; max-height:64px; overflow:auto\">None</div></td><td><div style=\"text-align:left; max-width:192px; max-height:64px; overflow:auto\">2022-10-31T19:26:38.000000+00:00</div></td><td><div style=\"text-align:left; max-width:192px; max-height:64px; overflow:auto\">None</div></td><td><div style=\"text-align:left; max-width:192px; max-height:64px; overflow:auto\">2022-10-31T19:34:17.000000+00:00</div></td><td><div style=\"text-align:left; max-width:192px; max-height:64px; overflow:auto\">2022-10-31T19:45:32.000000+00:00</div></td><td><div style=\"text-align:left; max-width:192px; max-height:64px; overflow:auto\">89</div></td><td><div style=\"text-align:left; max-width:192px; max-height:64px; overflow:auto\">89</div></td><td><div style=\"text-align:left; max-width:192px; max-height:64px; overflow:auto\">1.138</div></td><td><div style=\"text-align:left; max-width:192px; max-height:64px; overflow:auto\">675</div></td><td><div style=\"text-align:left; max-width:192px; max-height:64px; overflow:auto\">7.02</div></td><td><div style=\"text-align:left; max-width:192px; max-height:64px; overflow:auto\">0</div></td><td><div style=\"text-align:left; max-width:192px; max-height:64px; overflow:auto\">0.21</div></td><td><div style=\"text-align:left; max-width:192px; max-height:64px; overflow:auto\">0.62</div></td><td><div style=\"text-align:left; max-width:192px; max-height:64px; overflow:auto\">0</div></td><td><div style=\"text-align:left; max-width:192px; max-height:64px; overflow:auto\">0</div></td><td><div style=\"text-align:left; max-width:192px; max-height:64px; overflow:auto\">0</div></td><td><div style=\"text-align:left; max-width:192px; max-height:64px; overflow:auto\">7.31</div></td><td><div style=\"text-align:left; max-width:192px; max-height:64px; overflow:auto\">N</div></td><td><div style=\"text-align:left; max-width:192px; max-height:64px; overflow:auto\">N</div></td><td><div style=\"text-align:left; max-width:192px; max-height:64px; overflow:auto\">N</div></td><td><div style=\"text-align:left; max-width:192px; max-height:64px; overflow:auto\">N</div></td><td><div style=\"text-align:left; max-width:192px; max-height:64px; overflow:auto\">N</div></td></tr>\n",
       "<tr><td><div style=\"text-align:left; max-width:192px; max-height:64px; overflow:auto\">HV0003</div></td><td><div style=\"text-align:left; max-width:192px; max-height:64px; overflow:auto\">B03404</div></td><td><div style=\"text-align:left; max-width:192px; max-height:64px; overflow:auto\">B03404</div></td><td><div style=\"text-align:left; max-width:192px; max-height:64px; overflow:auto\">2022-10-01T00:30:24.000000+00:00</div></td><td><div style=\"text-align:left; max-width:192px; max-height:64px; overflow:auto\">2022-10-01T00:33:54.000000+00:00</div></td><td><div style=\"text-align:left; max-width:192px; max-height:64px; overflow:auto\">2022-10-01T00:35:23.000000+00:00</div></td><td><div style=\"text-align:left; max-width:192px; max-height:64px; overflow:auto\">2022-10-01T00:47:21.000000+00:00</div></td><td><div style=\"text-align:left; max-width:192px; max-height:64px; overflow:auto\">241</div></td><td><div style=\"text-align:left; max-width:192px; max-height:64px; overflow:auto\">254</div></td><td><div style=\"text-align:left; max-width:192px; max-height:64px; overflow:auto\">2.33</div></td><td><div style=\"text-align:left; max-width:192px; max-height:64px; overflow:auto\">718</div></td><td><div style=\"text-align:left; max-width:192px; max-height:64px; overflow:auto\">11.61</div></td><td><div style=\"text-align:left; max-width:192px; max-height:64px; overflow:auto\">0</div></td><td><div style=\"text-align:left; max-width:192px; max-height:64px; overflow:auto\">0.35</div></td><td><div style=\"text-align:left; max-width:192px; max-height:64px; overflow:auto\">1.03</div></td><td><div style=\"text-align:left; max-width:192px; max-height:64px; overflow:auto\">0</div></td><td><div style=\"text-align:left; max-width:192px; max-height:64px; overflow:auto\">0</div></td><td><div style=\"text-align:left; max-width:192px; max-height:64px; overflow:auto\">0</div></td><td><div style=\"text-align:left; max-width:192px; max-height:64px; overflow:auto\">11.23</div></td><td><div style=\"text-align:left; max-width:192px; max-height:64px; overflow:auto\">N</div></td><td><div style=\"text-align:left; max-width:192px; max-height:64px; overflow:auto\">N</div></td><td><div style=\"text-align:left; max-width:192px; max-height:64px; overflow:auto\"> </div></td><td><div style=\"text-align:left; max-width:192px; max-height:64px; overflow:auto\">N</div></td><td><div style=\"text-align:left; max-width:192px; max-height:64px; overflow:auto\">N</div></td></tr>\n",
       "<tr><td><div style=\"text-align:left; max-width:192px; max-height:64px; overflow:auto\">HV0005</div></td><td><div style=\"text-align:left; max-width:192px; max-height:64px; overflow:auto\">B03406</div></td><td><div style=\"text-align:left; max-width:192px; max-height:64px; overflow:auto\">None</div></td><td><div style=\"text-align:left; max-width:192px; max-height:64px; overflow:auto\">2022-10-31T19:49:51.000000+00:00</div></td><td><div style=\"text-align:left; max-width:192px; max-height:64px; overflow:auto\">None</div></td><td><div style=\"text-align:left; max-width:192px; max-height:64px; overflow:auto\">2022-10-31T19:52:50.000000+00:00</div></td><td><div style=\"text-align:left; max-width:192px; max-height:64px; overflow:auto\">2022-10-31T20:18:25.000000+00:00</div></td><td><div style=\"text-align:left; max-width:192px; max-height:64px; overflow:auto\">89</div></td><td><div style=\"text-align:left; max-width:192px; max-height:64px; overflow:auto\">21</div></td><td><div style=\"text-align:left; max-width:192px; max-height:64px; overflow:auto\">3.989</div></td><td><div style=\"text-align:left; max-width:192px; max-height:64px; overflow:auto\">1535</div></td><td><div style=\"text-align:left; max-width:192px; max-height:64px; overflow:auto\">19.46</div></td><td><div style=\"text-align:left; max-width:192px; max-height:64px; overflow:auto\">0</div></td><td><div style=\"text-align:left; max-width:192px; max-height:64px; overflow:auto\">0.58</div></td><td><div style=\"text-align:left; max-width:192px; max-height:64px; overflow:auto\">1.73</div></td><td><div style=\"text-align:left; max-width:192px; max-height:64px; overflow:auto\">0</div></td><td><div style=\"text-align:left; max-width:192px; max-height:64px; overflow:auto\">0</div></td><td><div style=\"text-align:left; max-width:192px; max-height:64px; overflow:auto\">0</div></td><td><div style=\"text-align:left; max-width:192px; max-height:64px; overflow:auto\">18.25</div></td><td><div style=\"text-align:left; max-width:192px; max-height:64px; overflow:auto\">N</div></td><td><div style=\"text-align:left; max-width:192px; max-height:64px; overflow:auto\">N</div></td><td><div style=\"text-align:left; max-width:192px; max-height:64px; overflow:auto\">N</div></td><td><div style=\"text-align:left; max-width:192px; max-height:64px; overflow:auto\">N</div></td><td><div style=\"text-align:left; max-width:192px; max-height:64px; overflow:auto\">N</div></td></tr>\n",
       "<tr><td><div style=\"text-align:left; max-width:192px; max-height:64px; overflow:auto\">HV0003</div></td><td><div style=\"text-align:left; max-width:192px; max-height:64px; overflow:auto\">B03404</div></td><td><div style=\"text-align:left; max-width:192px; max-height:64px; overflow:auto\">B03404</div></td><td><div style=\"text-align:left; max-width:192px; max-height:64px; overflow:auto\">2022-10-01T00:49:44.000000+00:00</div></td><td><div style=\"text-align:left; max-width:192px; max-height:64px; overflow:auto\">2022-10-01T00:52:50.000000+00:00</div></td><td><div style=\"text-align:left; max-width:192px; max-height:64px; overflow:auto\">2022-10-01T00:54:01.000000+00:00</div></td><td><div style=\"text-align:left; max-width:192px; max-height:64px; overflow:auto\">2022-10-01T01:08:20.000000+00:00</div></td><td><div style=\"text-align:left; max-width:192px; max-height:64px; overflow:auto\">174</div></td><td><div style=\"text-align:left; max-width:192px; max-height:64px; overflow:auto\">250</div></td><td><div style=\"text-align:left; max-width:192px; max-height:64px; overflow:auto\">5.69</div></td><td><div style=\"text-align:left; max-width:192px; max-height:64px; overflow:auto\">859</div></td><td><div style=\"text-align:left; max-width:192px; max-height:64px; overflow:auto\">17.87</div></td><td><div style=\"text-align:left; max-width:192px; max-height:64px; overflow:auto\">0</div></td><td><div style=\"text-align:left; max-width:192px; max-height:64px; overflow:auto\">0.54</div></td><td><div style=\"text-align:left; max-width:192px; max-height:64px; overflow:auto\">1.59</div></td><td><div style=\"text-align:left; max-width:192px; max-height:64px; overflow:auto\">0</div></td><td><div style=\"text-align:left; max-width:192px; max-height:64px; overflow:auto\">0</div></td><td><div style=\"text-align:left; max-width:192px; max-height:64px; overflow:auto\">0</div></td><td><div style=\"text-align:left; max-width:192px; max-height:64px; overflow:auto\">16.38</div></td><td><div style=\"text-align:left; max-width:192px; max-height:64px; overflow:auto\">N</div></td><td><div style=\"text-align:left; max-width:192px; max-height:64px; overflow:auto\">N</div></td><td><div style=\"text-align:left; max-width:192px; max-height:64px; overflow:auto\"> </div></td><td><div style=\"text-align:left; max-width:192px; max-height:64px; overflow:auto\">N</div></td><td><div style=\"text-align:left; max-width:192px; max-height:64px; overflow:auto\">N</div></td></tr>\n",
       "<tr><td><div style=\"text-align:left; max-width:192px; max-height:64px; overflow:auto\">HV0003</div></td><td><div style=\"text-align:left; max-width:192px; max-height:64px; overflow:auto\">B03404</div></td><td><div style=\"text-align:left; max-width:192px; max-height:64px; overflow:auto\">B03404</div></td><td><div style=\"text-align:left; max-width:192px; max-height:64px; overflow:auto\">2022-10-31T19:07:55.000000+00:00</div></td><td><div style=\"text-align:left; max-width:192px; max-height:64px; overflow:auto\">2022-10-31T19:14:34.000000+00:00</div></td><td><div style=\"text-align:left; max-width:192px; max-height:64px; overflow:auto\">2022-10-31T19:14:52.000000+00:00</div></td><td><div style=\"text-align:left; max-width:192px; max-height:64px; overflow:auto\">2022-10-31T20:05:18.000000+00:00</div></td><td><div style=\"text-align:left; max-width:192px; max-height:64px; overflow:auto\">33</div></td><td><div style=\"text-align:left; max-width:192px; max-height:64px; overflow:auto\">132</div></td><td><div style=\"text-align:left; max-width:192px; max-height:64px; overflow:auto\">18.52</div></td><td><div style=\"text-align:left; max-width:192px; max-height:64px; overflow:auto\">3026</div></td><td><div style=\"text-align:left; max-width:192px; max-height:64px; overflow:auto\">62.72</div></td><td><div style=\"text-align:left; max-width:192px; max-height:64px; overflow:auto\">0</div></td><td><div style=\"text-align:left; max-width:192px; max-height:64px; overflow:auto\">1.96</div></td><td><div style=\"text-align:left; max-width:192px; max-height:64px; overflow:auto\">5.79</div></td><td><div style=\"text-align:left; max-width:192px; max-height:64px; overflow:auto\">0</div></td><td><div style=\"text-align:left; max-width:192px; max-height:64px; overflow:auto\">2.5</div></td><td><div style=\"text-align:left; max-width:192px; max-height:64px; overflow:auto\">0</div></td><td><div style=\"text-align:left; max-width:192px; max-height:64px; overflow:auto\">49.21</div></td><td><div style=\"text-align:left; max-width:192px; max-height:64px; overflow:auto\">N</div></td><td><div style=\"text-align:left; max-width:192px; max-height:64px; overflow:auto\">N</div></td><td><div style=\"text-align:left; max-width:192px; max-height:64px; overflow:auto\"> </div></td><td><div style=\"text-align:left; max-width:192px; max-height:64px; overflow:auto\">N</div></td><td><div style=\"text-align:left; max-width:192px; max-height:64px; overflow:auto\">N</div></td></tr>\n",
       "<tr><td><div style=\"text-align:left; max-width:192px; max-height:64px; overflow:auto\">HV0003</div></td><td><div style=\"text-align:left; max-width:192px; max-height:64px; overflow:auto\">B03404</div></td><td><div style=\"text-align:left; max-width:192px; max-height:64px; overflow:auto\">B03404</div></td><td><div style=\"text-align:left; max-width:192px; max-height:64px; overflow:auto\">2022-10-01T00:47:46.000000+00:00</div></td><td><div style=\"text-align:left; max-width:192px; max-height:64px; overflow:auto\">2022-10-01T00:48:48.000000+00:00</div></td><td><div style=\"text-align:left; max-width:192px; max-height:64px; overflow:auto\">2022-10-01T00:52:08.000000+00:00</div></td><td><div style=\"text-align:left; max-width:192px; max-height:64px; overflow:auto\">2022-10-01T01:14:31.000000+00:00</div></td><td><div style=\"text-align:left; max-width:192px; max-height:64px; overflow:auto\">211</div></td><td><div style=\"text-align:left; max-width:192px; max-height:64px; overflow:auto\">265</div></td><td><div style=\"text-align:left; max-width:192px; max-height:64px; overflow:auto\">6.05</div></td><td><div style=\"text-align:left; max-width:192px; max-height:64px; overflow:auto\">1343</div></td><td><div style=\"text-align:left; max-width:192px; max-height:64px; overflow:auto\">43.07</div></td><td><div style=\"text-align:left; max-width:192px; max-height:64px; overflow:auto\">20</div></td><td><div style=\"text-align:left; max-width:192px; max-height:64px; overflow:auto\">1.89</div></td><td><div style=\"text-align:left; max-width:192px; max-height:64px; overflow:auto\">0</div></td><td><div style=\"text-align:left; max-width:192px; max-height:64px; overflow:auto\">0</div></td><td><div style=\"text-align:left; max-width:192px; max-height:64px; overflow:auto\">0</div></td><td><div style=\"text-align:left; max-width:192px; max-height:64px; overflow:auto\">0</div></td><td><div style=\"text-align:left; max-width:192px; max-height:64px; overflow:auto\">32.25</div></td><td><div style=\"text-align:left; max-width:192px; max-height:64px; overflow:auto\">N</div></td><td><div style=\"text-align:left; max-width:192px; max-height:64px; overflow:auto\">N</div></td><td><div style=\"text-align:left; max-width:192px; max-height:64px; overflow:auto\"> </div></td><td><div style=\"text-align:left; max-width:192px; max-height:64px; overflow:auto\">N</div></td><td><div style=\"text-align:left; max-width:192px; max-height:64px; overflow:auto\">N</div></td></tr>\n",
       "<tr><td><div style=\"text-align:left; max-width:192px; max-height:64px; overflow:auto\">HV0003</div></td><td><div style=\"text-align:left; max-width:192px; max-height:64px; overflow:auto\">B03404</div></td><td><div style=\"text-align:left; max-width:192px; max-height:64px; overflow:auto\">B03404</div></td><td><div style=\"text-align:left; max-width:192px; max-height:64px; overflow:auto\">2022-10-31T19:02:04.000000+00:00</div></td><td><div style=\"text-align:left; max-width:192px; max-height:64px; overflow:auto\">2022-10-31T19:09:10.000000+00:00</div></td><td><div style=\"text-align:left; max-width:192px; max-height:64px; overflow:auto\">2022-10-31T19:09:20.000000+00:00</div></td><td><div style=\"text-align:left; max-width:192px; max-height:64px; overflow:auto\">2022-10-31T19:36:51.000000+00:00</div></td><td><div style=\"text-align:left; max-width:192px; max-height:64px; overflow:auto\">171</div></td><td><div style=\"text-align:left; max-width:192px; max-height:64px; overflow:auto\">49</div></td><td><div style=\"text-align:left; max-width:192px; max-height:64px; overflow:auto\">12.08</div></td><td><div style=\"text-align:left; max-width:192px; max-height:64px; overflow:auto\">1651</div></td><td><div style=\"text-align:left; max-width:192px; max-height:64px; overflow:auto\">34.79</div></td><td><div style=\"text-align:left; max-width:192px; max-height:64px; overflow:auto\">0</div></td><td><div style=\"text-align:left; max-width:192px; max-height:64px; overflow:auto\">1.04</div></td><td><div style=\"text-align:left; max-width:192px; max-height:64px; overflow:auto\">3.09</div></td><td><div style=\"text-align:left; max-width:192px; max-height:64px; overflow:auto\">0</div></td><td><div style=\"text-align:left; max-width:192px; max-height:64px; overflow:auto\">0</div></td><td><div style=\"text-align:left; max-width:192px; max-height:64px; overflow:auto\">0</div></td><td><div style=\"text-align:left; max-width:192px; max-height:64px; overflow:auto\">28.6</div></td><td><div style=\"text-align:left; max-width:192px; max-height:64px; overflow:auto\">N</div></td><td><div style=\"text-align:left; max-width:192px; max-height:64px; overflow:auto\">N</div></td><td><div style=\"text-align:left; max-width:192px; max-height:64px; overflow:auto\"> </div></td><td><div style=\"text-align:left; max-width:192px; max-height:64px; overflow:auto\">N</div></td><td><div style=\"text-align:left; max-width:192px; max-height:64px; overflow:auto\">N</div></td></tr>\n",
       "</tbody>\n",
       "</table>\n",
       "<small>(Showing first 8 rows)</small>\n",
       "</div>"
      ],
      "text/plain": [
       "╭─────────────────┬─────────────────┬─────────────────┬─────────────┬────────────────┬────────────────┬────────────────╮\n",
       "│ hvfhs_license_n ┆ dispatching_bas ┆ originating_bas ┆      …      ┆ access_a_ride_ ┆ wav_request_fl ┆ wav_match_flag │\n",
       "│ um              ┆ e_num           ┆ e_num           ┆             ┆ flag           ┆ ag             ┆ ---            │\n",
       "│ ---             ┆ ---             ┆ ---             ┆ (18 hidden) ┆ ---            ┆ ---            ┆ Utf8           │\n",
       "│ Utf8            ┆ Utf8            ┆ Utf8            ┆             ┆ Utf8           ┆ Utf8           ┆                │\n",
       "╞═════════════════╪═════════════════╪═════════════════╪═════════════╪════════════════╪════════════════╪════════════════╡\n",
       "│ HV0003          ┆ B03404          ┆ B03404          ┆ …           ┆                ┆ N              ┆ N              │\n",
       "├╌╌╌╌╌╌╌╌╌╌╌╌╌╌╌╌╌┼╌╌╌╌╌╌╌╌╌╌╌╌╌╌╌╌╌┼╌╌╌╌╌╌╌╌╌╌╌╌╌╌╌╌╌┼╌╌╌╌╌╌╌╌╌╌╌╌╌┼╌╌╌╌╌╌╌╌╌╌╌╌╌╌╌╌┼╌╌╌╌╌╌╌╌╌╌╌╌╌╌╌╌┼╌╌╌╌╌╌╌╌╌╌╌╌╌╌╌╌┤\n",
       "│ HV0005          ┆ B03406          ┆ None            ┆ …           ┆ N              ┆ N              ┆ N              │\n",
       "├╌╌╌╌╌╌╌╌╌╌╌╌╌╌╌╌╌┼╌╌╌╌╌╌╌╌╌╌╌╌╌╌╌╌╌┼╌╌╌╌╌╌╌╌╌╌╌╌╌╌╌╌╌┼╌╌╌╌╌╌╌╌╌╌╌╌╌┼╌╌╌╌╌╌╌╌╌╌╌╌╌╌╌╌┼╌╌╌╌╌╌╌╌╌╌╌╌╌╌╌╌┼╌╌╌╌╌╌╌╌╌╌╌╌╌╌╌╌┤\n",
       "│ HV0003          ┆ B03404          ┆ B03404          ┆ …           ┆                ┆ N              ┆ N              │\n",
       "├╌╌╌╌╌╌╌╌╌╌╌╌╌╌╌╌╌┼╌╌╌╌╌╌╌╌╌╌╌╌╌╌╌╌╌┼╌╌╌╌╌╌╌╌╌╌╌╌╌╌╌╌╌┼╌╌╌╌╌╌╌╌╌╌╌╌╌┼╌╌╌╌╌╌╌╌╌╌╌╌╌╌╌╌┼╌╌╌╌╌╌╌╌╌╌╌╌╌╌╌╌┼╌╌╌╌╌╌╌╌╌╌╌╌╌╌╌╌┤\n",
       "│ HV0005          ┆ B03406          ┆ None            ┆ …           ┆ N              ┆ N              ┆ N              │\n",
       "├╌╌╌╌╌╌╌╌╌╌╌╌╌╌╌╌╌┼╌╌╌╌╌╌╌╌╌╌╌╌╌╌╌╌╌┼╌╌╌╌╌╌╌╌╌╌╌╌╌╌╌╌╌┼╌╌╌╌╌╌╌╌╌╌╌╌╌┼╌╌╌╌╌╌╌╌╌╌╌╌╌╌╌╌┼╌╌╌╌╌╌╌╌╌╌╌╌╌╌╌╌┼╌╌╌╌╌╌╌╌╌╌╌╌╌╌╌╌┤\n",
       "│ HV0003          ┆ B03404          ┆ B03404          ┆ …           ┆                ┆ N              ┆ N              │\n",
       "├╌╌╌╌╌╌╌╌╌╌╌╌╌╌╌╌╌┼╌╌╌╌╌╌╌╌╌╌╌╌╌╌╌╌╌┼╌╌╌╌╌╌╌╌╌╌╌╌╌╌╌╌╌┼╌╌╌╌╌╌╌╌╌╌╌╌╌┼╌╌╌╌╌╌╌╌╌╌╌╌╌╌╌╌┼╌╌╌╌╌╌╌╌╌╌╌╌╌╌╌╌┼╌╌╌╌╌╌╌╌╌╌╌╌╌╌╌╌┤\n",
       "│ HV0003          ┆ B03404          ┆ B03404          ┆ …           ┆                ┆ N              ┆ N              │\n",
       "├╌╌╌╌╌╌╌╌╌╌╌╌╌╌╌╌╌┼╌╌╌╌╌╌╌╌╌╌╌╌╌╌╌╌╌┼╌╌╌╌╌╌╌╌╌╌╌╌╌╌╌╌╌┼╌╌╌╌╌╌╌╌╌╌╌╌╌┼╌╌╌╌╌╌╌╌╌╌╌╌╌╌╌╌┼╌╌╌╌╌╌╌╌╌╌╌╌╌╌╌╌┼╌╌╌╌╌╌╌╌╌╌╌╌╌╌╌╌┤\n",
       "│ HV0003          ┆ B03404          ┆ B03404          ┆ …           ┆                ┆ N              ┆ N              │\n",
       "├╌╌╌╌╌╌╌╌╌╌╌╌╌╌╌╌╌┼╌╌╌╌╌╌╌╌╌╌╌╌╌╌╌╌╌┼╌╌╌╌╌╌╌╌╌╌╌╌╌╌╌╌╌┼╌╌╌╌╌╌╌╌╌╌╌╌╌┼╌╌╌╌╌╌╌╌╌╌╌╌╌╌╌╌┼╌╌╌╌╌╌╌╌╌╌╌╌╌╌╌╌┼╌╌╌╌╌╌╌╌╌╌╌╌╌╌╌╌┤\n",
       "│ HV0003          ┆ B03404          ┆ B03404          ┆ …           ┆                ┆ N              ┆ N              │\n",
       "╰─────────────────┴─────────────────┴─────────────────┴─────────────┴────────────────┴────────────────┴────────────────╯\n",
       "\n",
       "(Showing first 8 rows)"
      ]
     },
     "metadata": {},
     "output_type": "display_data"
    }
   ],
   "source": [
    "df.show()"
   ]
  },
  {
   "cell_type": "code",
   "execution_count": 9,
   "id": "e639e082-f38f-4bd1-a058-c3a701bf43de",
   "metadata": {},
   "outputs": [
    {
     "name": "stderr",
     "output_type": "stream",
     "text": [
      "WARNING:root:IcebergScanOperator(default.nyc_taxi.fhvhv) has Partitioning Keys: [PartitionField(pickup_datetime_month#Int32, src=pickup_datetime#Timestamp(Microseconds, Some(\"UTC\")), tfm=Month)] but no partition filter was specified. This will result in a full table scan.\n"
     ]
    },
    {
     "data": {
      "application/vnd.jupyter.widget-view+json": {
       "model_id": "72f90a4b03964bd6ad7b8d6eb7b4494c",
       "version_major": 2,
       "version_minor": 0
      },
      "text/plain": [
       "ScanWithTask-Aggregate [Stage:4]:   0%|          | 0/1 [00:00<?, ?it/s]"
      ]
     },
     "metadata": {},
     "output_type": "display_data"
    },
    {
     "data": {
      "application/vnd.jupyter.widget-view+json": {
       "model_id": "a8a30fd62d56467eb257642daf6a9eaf",
       "version_major": 2,
       "version_minor": 0
      },
      "text/plain": [
       "ReduceMerge-Aggregate-Project-Project [Stage:3]:   0%|          | 0/1 [00:00<?, ?it/s]"
      ]
     },
     "metadata": {},
     "output_type": "display_data"
    },
    {
     "data": {
      "text/plain": [
       "212416083"
      ]
     },
     "execution_count": 9,
     "metadata": {},
     "output_type": "execute_result"
    }
   ],
   "source": [
    "df.count_rows()"
   ]
  },
  {
   "cell_type": "code",
   "execution_count": 10,
   "id": "765dd69d-fa09-4cba-a4d3-e1d5fd9f504c",
   "metadata": {},
   "outputs": [
    {
     "name": "stdout",
     "output_type": "stream",
     "text": [
      "== Unoptimized Logical Plan ==\n",
      "\n",
      "* PythonScanOperator: IcebergScanOperator(default.nyc_taxi.fhvhv)\n",
      "|   File schema = hvfhs_license_num#Utf8, dispatching_base_num#Utf8, originating_base_num#Utf8, request_datetime#Timestamp(Microseconds, Some(\"UTC\")), on_scene_datetime#Timestamp(Microseconds, Some(\"UTC\")), pickup_datetime#Timestamp(Microseconds, Some(\"UTC\")), dropoff_datetime#Timestamp(Microseconds, Some(\"UTC\")), PULocationID#Int32, DOLocationID#Int32, trip_miles#Float32, trip_time#Int32, base_passenger_fare#Float32, tolls#Float32, bcf#Float32, sales_tax#Float32, congestion_surcharge#Float32, airport_fee#Float32, tips#Float32, driver_pay#Float32, shared_request_flag#Utf8, shared_match_flag#Utf8, access_a_ride_flag#Utf8, wav_request_flag#Utf8, wav_match_flag#Utf8\n",
      "|   Partitioning keys = [PartitionField(pickup_datetime_month#Int32, src=pickup_datetime#Timestamp(Microseconds, Some(\"UTC\")), tfm=Month)]\n",
      "|   Output schema = hvfhs_license_num#Utf8, dispatching_base_num#Utf8, originating_base_num#Utf8, request_datetime#Timestamp(Microseconds, Some(\"UTC\")), on_scene_datetime#Timestamp(Microseconds, Some(\"UTC\")), pickup_datetime#Timestamp(Microseconds, Some(\"UTC\")), dropoff_datetime#Timestamp(Microseconds, Some(\"UTC\")), PULocationID#Int32, DOLocationID#Int32, trip_miles#Float32, trip_time#Int32, base_passenger_fare#Float32, tolls#Float32, bcf#Float32, sales_tax#Float32, congestion_surcharge#Float32, airport_fee#Float32, tips#Float32, driver_pay#Float32, shared_request_flag#Utf8, shared_match_flag#Utf8, access_a_ride_flag#Utf8, wav_request_flag#Utf8, wav_match_flag#Utf8\n",
      "\n",
      "\n",
      "== Optimized Logical Plan ==\n",
      "\n",
      "* PythonScanOperator: IcebergScanOperator(default.nyc_taxi.fhvhv)\n",
      "|   File schema = hvfhs_license_num#Utf8, dispatching_base_num#Utf8, originating_base_num#Utf8, request_datetime#Timestamp(Microseconds, Some(\"UTC\")), on_scene_datetime#Timestamp(Microseconds, Some(\"UTC\")), pickup_datetime#Timestamp(Microseconds, Some(\"UTC\")), dropoff_datetime#Timestamp(Microseconds, Some(\"UTC\")), PULocationID#Int32, DOLocationID#Int32, trip_miles#Float32, trip_time#Int32, base_passenger_fare#Float32, tolls#Float32, bcf#Float32, sales_tax#Float32, congestion_surcharge#Float32, airport_fee#Float32, tips#Float32, driver_pay#Float32, shared_request_flag#Utf8, shared_match_flag#Utf8, access_a_ride_flag#Utf8, wav_request_flag#Utf8, wav_match_flag#Utf8\n",
      "|   Partitioning keys = [PartitionField(pickup_datetime_month#Int32, src=pickup_datetime#Timestamp(Microseconds, Some(\"UTC\")), tfm=Month)]\n",
      "|   Output schema = hvfhs_license_num#Utf8, dispatching_base_num#Utf8, originating_base_num#Utf8, request_datetime#Timestamp(Microseconds, Some(\"UTC\")), on_scene_datetime#Timestamp(Microseconds, Some(\"UTC\")), pickup_datetime#Timestamp(Microseconds, Some(\"UTC\")), dropoff_datetime#Timestamp(Microseconds, Some(\"UTC\")), PULocationID#Int32, DOLocationID#Int32, trip_miles#Float32, trip_time#Int32, base_passenger_fare#Float32, tolls#Float32, bcf#Float32, sales_tax#Float32, congestion_surcharge#Float32, airport_fee#Float32, tips#Float32, driver_pay#Float32, shared_request_flag#Utf8, shared_match_flag#Utf8, access_a_ride_flag#Utf8, wav_request_flag#Utf8, wav_match_flag#Utf8\n",
      "\n",
      "\n",
      "== Physical Plan ==\n",
      "\n"
     ]
    },
    {
     "name": "stderr",
     "output_type": "stream",
     "text": [
      "WARNING:root:IcebergScanOperator(default.nyc_taxi.fhvhv) has Partitioning Keys: [PartitionField(pickup_datetime_month#Int32, src=pickup_datetime#Timestamp(Microseconds, Some(\"UTC\")), tfm=Month)] but no partition filter was specified. This will result in a full table scan.\n"
     ]
    },
    {
     "name": "stdout",
     "output_type": "stream",
     "text": [
      "* TabularScan:\n",
      "|   Num Scan Tasks = 12\n",
      "|   Estimated Scan Bytes = 5455658077\n",
      "|   Clustering spec = { Num partitions = 12 }\n",
      "\n"
     ]
    }
   ],
   "source": [
    "df.explain(show_all=True)"
   ]
  },
  {
   "cell_type": "code",
   "execution_count": 11,
   "id": "8bc425df-3778-4c55-ae62-11e6ca1a78b9",
   "metadata": {},
   "outputs": [],
   "source": [
    "import datetime\n",
    "\n",
    "df = df.where(df[\"pickup_datetime\"] < datetime.date(2022, 2, 1))"
   ]
  },
  {
   "cell_type": "code",
   "execution_count": 12,
   "id": "3010f458-5f63-434a-8d3d-47edf55be332",
   "metadata": {},
   "outputs": [
    {
     "name": "stdout",
     "output_type": "stream",
     "text": [
      "== Unoptimized Logical Plan ==\n",
      "\n",
      "* Filter: col(pickup_datetime) < lit(2022-02-01)\n",
      "|\n",
      "* PythonScanOperator: IcebergScanOperator(default.nyc_taxi.fhvhv)\n",
      "|   File schema = hvfhs_license_num#Utf8, dispatching_base_num#Utf8, originating_base_num#Utf8, request_datetime#Timestamp(Microseconds, Some(\"UTC\")), on_scene_datetime#Timestamp(Microseconds, Some(\"UTC\")), pickup_datetime#Timestamp(Microseconds, Some(\"UTC\")), dropoff_datetime#Timestamp(Microseconds, Some(\"UTC\")), PULocationID#Int32, DOLocationID#Int32, trip_miles#Float32, trip_time#Int32, base_passenger_fare#Float32, tolls#Float32, bcf#Float32, sales_tax#Float32, congestion_surcharge#Float32, airport_fee#Float32, tips#Float32, driver_pay#Float32, shared_request_flag#Utf8, shared_match_flag#Utf8, access_a_ride_flag#Utf8, wav_request_flag#Utf8, wav_match_flag#Utf8\n",
      "|   Partitioning keys = [PartitionField(pickup_datetime_month#Int32, src=pickup_datetime#Timestamp(Microseconds, Some(\"UTC\")), tfm=Month)]\n",
      "|   Output schema = hvfhs_license_num#Utf8, dispatching_base_num#Utf8, originating_base_num#Utf8, request_datetime#Timestamp(Microseconds, Some(\"UTC\")), on_scene_datetime#Timestamp(Microseconds, Some(\"UTC\")), pickup_datetime#Timestamp(Microseconds, Some(\"UTC\")), dropoff_datetime#Timestamp(Microseconds, Some(\"UTC\")), PULocationID#Int32, DOLocationID#Int32, trip_miles#Float32, trip_time#Int32, base_passenger_fare#Float32, tolls#Float32, bcf#Float32, sales_tax#Float32, congestion_surcharge#Float32, airport_fee#Float32, tips#Float32, driver_pay#Float32, shared_request_flag#Utf8, shared_match_flag#Utf8, access_a_ride_flag#Utf8, wav_request_flag#Utf8, wav_match_flag#Utf8\n",
      "\n",
      "\n",
      "== Optimized Logical Plan ==\n",
      "\n",
      "* PythonScanOperator: IcebergScanOperator(default.nyc_taxi.fhvhv)\n",
      "|   File schema = hvfhs_license_num#Utf8, dispatching_base_num#Utf8, originating_base_num#Utf8, request_datetime#Timestamp(Microseconds, Some(\"UTC\")), on_scene_datetime#Timestamp(Microseconds, Some(\"UTC\")), pickup_datetime#Timestamp(Microseconds, Some(\"UTC\")), dropoff_datetime#Timestamp(Microseconds, Some(\"UTC\")), PULocationID#Int32, DOLocationID#Int32, trip_miles#Float32, trip_time#Int32, base_passenger_fare#Float32, tolls#Float32, bcf#Float32, sales_tax#Float32, congestion_surcharge#Float32, airport_fee#Float32, tips#Float32, driver_pay#Float32, shared_request_flag#Utf8, shared_match_flag#Utf8, access_a_ride_flag#Utf8, wav_request_flag#Utf8, wav_match_flag#Utf8\n",
      "|   Partitioning keys = [PartitionField(pickup_datetime_month#Int32, src=pickup_datetime#Timestamp(Microseconds, Some(\"UTC\")), tfm=Month)]\n",
      "|   Filter pushdown = col(pickup_datetime) < lit(2022-02-01)\n",
      "|   Partition Filter = col(pickup_datetime_month) <= months(lit(2022-02-01))\n",
      "|   Output schema = hvfhs_license_num#Utf8, dispatching_base_num#Utf8, originating_base_num#Utf8, request_datetime#Timestamp(Microseconds, Some(\"UTC\")), on_scene_datetime#Timestamp(Microseconds, Some(\"UTC\")), pickup_datetime#Timestamp(Microseconds, Some(\"UTC\")), dropoff_datetime#Timestamp(Microseconds, Some(\"UTC\")), PULocationID#Int32, DOLocationID#Int32, trip_miles#Float32, trip_time#Int32, base_passenger_fare#Float32, tolls#Float32, bcf#Float32, sales_tax#Float32, congestion_surcharge#Float32, airport_fee#Float32, tips#Float32, driver_pay#Float32, shared_request_flag#Utf8, shared_match_flag#Utf8, access_a_ride_flag#Utf8, wav_request_flag#Utf8, wav_match_flag#Utf8\n",
      "\n",
      "\n",
      "== Physical Plan ==\n",
      "\n",
      "* TabularScan:\n",
      "|   Num Scan Tasks = 4\n",
      "|   Estimated Scan Bytes = 785610235\n",
      "|   Clustering spec = { Num partitions = 4 }\n",
      "\n"
     ]
    }
   ],
   "source": [
    "df.explain(show_all=True)"
   ]
  },
  {
   "cell_type": "code",
   "execution_count": 13,
   "id": "555e5301-6774-4e43-a04c-f613a0ae1a80",
   "metadata": {},
   "outputs": [
    {
     "data": {
      "application/vnd.jupyter.widget-view+json": {
       "model_id": "40ad1f7da462467fbe1ed9aa8ff310c8",
       "version_major": 2,
       "version_minor": 0
      },
      "text/plain": [
       "ScanWithTask-Aggregate [Stage:6]:   0%|          | 0/1 [00:00<?, ?it/s]"
      ]
     },
     "metadata": {},
     "output_type": "display_data"
    },
    {
     "data": {
      "application/vnd.jupyter.widget-view+json": {
       "model_id": "67f5a4f4ad2b4cfaad094e388c085edc",
       "version_major": 2,
       "version_minor": 0
      },
      "text/plain": [
       "ReduceMerge-Aggregate-Project-Project [Stage:5]:   0%|          | 0/1 [00:00<?, ?it/s]"
      ]
     },
     "metadata": {},
     "output_type": "display_data"
    },
    {
     "data": {
      "text/plain": [
       "14751591"
      ]
     },
     "execution_count": 13,
     "metadata": {},
     "output_type": "execute_result"
    }
   ],
   "source": [
    "df.count_rows()"
   ]
  },
  {
   "cell_type": "code",
   "execution_count": 14,
   "id": "a6a130ec-da8f-46ce-b375-e8e7afd80b82",
   "metadata": {},
   "outputs": [],
   "source": [
    "aggregated_df = (\n",
    "    df\n",
    "    .groupby(daft.col(\"pickup_datetime\").cast(daft.DataType.date()))\n",
    "    .sum(\n",
    "        df[\"trip_time\"],\n",
    "        (df[\"base_passenger_fare\"] + df[\"tolls\"]).alias(\"fare_plus_tolls\")\n",
    "    )\n",
    "    .sort(\"pickup_datetime\")\n",
    ")"
   ]
  },
  {
   "cell_type": "code",
   "execution_count": 15,
   "id": "ee8731e4-e520-48ed-9b87-62dfc2b1fdea",
   "metadata": {},
   "outputs": [
    {
     "data": {
      "text/html": [
       "<div>\n",
       "<table class=\"dataframe\">\n",
       "<thead><tr><th style=\"text-wrap: nowrap; max-width:192px; overflow:auto; text-align:left\">pickup_datetime<br />Date</th><th style=\"text-wrap: nowrap; max-width:192px; overflow:auto; text-align:left\">trip_time<br />Int64</th><th style=\"text-wrap: nowrap; max-width:192px; overflow:auto; text-align:left\">fare_plus_tolls<br />Float32</th></tr></thead>\n",
       "</table>\n",
       "<small>(No data to display: Dataframe not materialized)</small>\n",
       "</div>"
      ],
      "text/plain": [
       "╭─────────────────┬───────────┬─────────────────╮\n",
       "│ pickup_datetime ┆ trip_time ┆ fare_plus_tolls │\n",
       "│ ---             ┆ ---       ┆ ---             │\n",
       "│ Date            ┆ Int64     ┆ Float32         │\n",
       "╰─────────────────┴───────────┴─────────────────╯\n",
       "\n",
       "(No data to display: Dataframe not materialized)"
      ]
     },
     "execution_count": 15,
     "metadata": {},
     "output_type": "execute_result"
    }
   ],
   "source": [
    "aggregated_df"
   ]
  },
  {
   "cell_type": "code",
   "execution_count": 16,
   "id": "1e6a0ed8-72c2-4787-a6d1-590c46aa7be0",
   "metadata": {},
   "outputs": [
    {
     "data": {
      "application/vnd.jupyter.widget-view+json": {
       "model_id": "aed63a26000b4a9ba44a7d19b6aa4fca",
       "version_major": 2,
       "version_minor": 0
      },
      "text/plain": [
       "ScanWithTask-Project-Aggregate-FanoutHash [Stage:9]:   0%|          | 0/1 [00:00<?, ?it/s]"
      ]
     },
     "metadata": {},
     "output_type": "display_data"
    },
    {
     "data": {
      "application/vnd.jupyter.widget-view+json": {
       "model_id": "ac80852b75044a25975d5dae08762677",
       "version_major": 2,
       "version_minor": 0
      },
      "text/plain": [
       "ReduceMerge-Aggregate-Project [Stage:8]:   0%|          | 0/1 [00:00<?, ?it/s]"
      ]
     },
     "metadata": {},
     "output_type": "display_data"
    },
    {
     "data": {
      "application/vnd.jupyter.widget-view+json": {
       "model_id": "b7e316708249481eb2281ac7075793b5",
       "version_major": 2,
       "version_minor": 0
      },
      "text/plain": [
       "Sample [Stage:10]:   0%|          | 0/1 [00:00<?, ?it/s]"
      ]
     },
     "metadata": {},
     "output_type": "display_data"
    },
    {
     "data": {
      "application/vnd.jupyter.widget-view+json": {
       "model_id": "cbd7b7d677c54adbb2e0ba24461cec23",
       "version_major": 2,
       "version_minor": 0
      },
      "text/plain": [
       "ReduceToQuantiles [Stage:11]:   0%|          | 0/1 [00:00<?, ?it/s]"
      ]
     },
     "metadata": {},
     "output_type": "display_data"
    },
    {
     "data": {
      "application/vnd.jupyter.widget-view+json": {
       "model_id": "a1c1a9da3e99422099065de997c8e436",
       "version_major": 2,
       "version_minor": 0
      },
      "text/plain": [
       "FanoutRange [Stage:12]:   0%|          | 0/1 [00:00<?, ?it/s]"
      ]
     },
     "metadata": {},
     "output_type": "display_data"
    },
    {
     "data": {
      "application/vnd.jupyter.widget-view+json": {
       "model_id": "3ee5b696b4b34128b019604cf6ca76f0",
       "version_major": 2,
       "version_minor": 0
      },
      "text/plain": [
       "ReduceMergeAndSort [Stage:7]:   0%|          | 0/1 [00:00<?, ?it/s]"
      ]
     },
     "metadata": {},
     "output_type": "display_data"
    },
    {
     "data": {
      "text/html": [
       "<div>\n",
       "<table class=\"dataframe\">\n",
       "<thead><tr><th style=\"text-wrap: nowrap; max-width:192px; overflow:auto; text-align:left\">pickup_datetime<br />Date</th><th style=\"text-wrap: nowrap; max-width:192px; overflow:auto; text-align:left\">trip_time<br />Int64</th><th style=\"text-wrap: nowrap; max-width:192px; overflow:auto; text-align:left\">fare_plus_tolls<br />Float32</th></tr></thead>\n",
       "<tbody>\n",
       "<tr><td><div style=\"text-align:left; max-width:192px; max-height:64px; overflow:auto\">2022-01-01</div></td><td><div style=\"text-align:left; max-width:192px; max-height:64px; overflow:auto\">476689058</div></td><td><div style=\"text-align:left; max-width:192px; max-height:64px; overflow:auto\">11388624</div></td></tr>\n",
       "<tr><td><div style=\"text-align:left; max-width:192px; max-height:64px; overflow:auto\">2022-01-02</div></td><td><div style=\"text-align:left; max-width:192px; max-height:64px; overflow:auto\">357439522</div></td><td><div style=\"text-align:left; max-width:192px; max-height:64px; overflow:auto\">8020001.5</div></td></tr>\n",
       "<tr><td><div style=\"text-align:left; max-width:192px; max-height:64px; overflow:auto\">2022-01-03</div></td><td><div style=\"text-align:left; max-width:192px; max-height:64px; overflow:auto\">394632767</div></td><td><div style=\"text-align:left; max-width:192px; max-height:64px; overflow:auto\">8248339</div></td></tr>\n",
       "<tr><td><div style=\"text-align:left; max-width:192px; max-height:64px; overflow:auto\">2022-01-04</div></td><td><div style=\"text-align:left; max-width:192px; max-height:64px; overflow:auto\">386754975</div></td><td><div style=\"text-align:left; max-width:192px; max-height:64px; overflow:auto\">7875813</div></td></tr>\n",
       "<tr><td><div style=\"text-align:left; max-width:192px; max-height:64px; overflow:auto\">2022-01-05</div></td><td><div style=\"text-align:left; max-width:192px; max-height:64px; overflow:auto\">397460543</div></td><td><div style=\"text-align:left; max-width:192px; max-height:64px; overflow:auto\">7890997.5</div></td></tr>\n",
       "<tr><td><div style=\"text-align:left; max-width:192px; max-height:64px; overflow:auto\">2022-01-06</div></td><td><div style=\"text-align:left; max-width:192px; max-height:64px; overflow:auto\">424654888</div></td><td><div style=\"text-align:left; max-width:192px; max-height:64px; overflow:auto\">8332166.5</div></td></tr>\n",
       "<tr><td><div style=\"text-align:left; max-width:192px; max-height:64px; overflow:auto\">2022-01-07</div></td><td><div style=\"text-align:left; max-width:192px; max-height:64px; overflow:auto\">456685599</div></td><td><div style=\"text-align:left; max-width:192px; max-height:64px; overflow:auto\">9474772</div></td></tr>\n",
       "<tr><td><div style=\"text-align:left; max-width:192px; max-height:64px; overflow:auto\">2022-01-08</div></td><td><div style=\"text-align:left; max-width:192px; max-height:64px; overflow:auto\">501159393</div></td><td><div style=\"text-align:left; max-width:192px; max-height:64px; overflow:auto\">10046370</div></td></tr>\n",
       "</tbody>\n",
       "</table>\n",
       "<small>(Showing first 8 of 31 rows)</small>\n",
       "</div>"
      ],
      "text/plain": [
       "╭─────────────────┬───────────┬─────────────────╮\n",
       "│ pickup_datetime ┆ trip_time ┆ fare_plus_tolls │\n",
       "│ ---             ┆ ---       ┆ ---             │\n",
       "│ Date            ┆ Int64     ┆ Float32         │\n",
       "╞═════════════════╪═══════════╪═════════════════╡\n",
       "│ 2022-01-01      ┆ 476689058 ┆ 11388624        │\n",
       "├╌╌╌╌╌╌╌╌╌╌╌╌╌╌╌╌╌┼╌╌╌╌╌╌╌╌╌╌╌┼╌╌╌╌╌╌╌╌╌╌╌╌╌╌╌╌╌┤\n",
       "│ 2022-01-02      ┆ 357439522 ┆ 8020001.5       │\n",
       "├╌╌╌╌╌╌╌╌╌╌╌╌╌╌╌╌╌┼╌╌╌╌╌╌╌╌╌╌╌┼╌╌╌╌╌╌╌╌╌╌╌╌╌╌╌╌╌┤\n",
       "│ 2022-01-03      ┆ 394632767 ┆ 8248339         │\n",
       "├╌╌╌╌╌╌╌╌╌╌╌╌╌╌╌╌╌┼╌╌╌╌╌╌╌╌╌╌╌┼╌╌╌╌╌╌╌╌╌╌╌╌╌╌╌╌╌┤\n",
       "│ 2022-01-04      ┆ 386754975 ┆ 7875813         │\n",
       "├╌╌╌╌╌╌╌╌╌╌╌╌╌╌╌╌╌┼╌╌╌╌╌╌╌╌╌╌╌┼╌╌╌╌╌╌╌╌╌╌╌╌╌╌╌╌╌┤\n",
       "│ 2022-01-05      ┆ 397460543 ┆ 7890997.5       │\n",
       "├╌╌╌╌╌╌╌╌╌╌╌╌╌╌╌╌╌┼╌╌╌╌╌╌╌╌╌╌╌┼╌╌╌╌╌╌╌╌╌╌╌╌╌╌╌╌╌┤\n",
       "│ 2022-01-06      ┆ 424654888 ┆ 8332166.5       │\n",
       "├╌╌╌╌╌╌╌╌╌╌╌╌╌╌╌╌╌┼╌╌╌╌╌╌╌╌╌╌╌┼╌╌╌╌╌╌╌╌╌╌╌╌╌╌╌╌╌┤\n",
       "│ 2022-01-07      ┆ 456685599 ┆ 9474772         │\n",
       "├╌╌╌╌╌╌╌╌╌╌╌╌╌╌╌╌╌┼╌╌╌╌╌╌╌╌╌╌╌┼╌╌╌╌╌╌╌╌╌╌╌╌╌╌╌╌╌┤\n",
       "│ 2022-01-08      ┆ 501159393 ┆ 10046370        │\n",
       "╰─────────────────┴───────────┴─────────────────╯\n",
       "\n",
       "(Showing first 8 of 31 rows)"
      ]
     },
     "execution_count": 16,
     "metadata": {},
     "output_type": "execute_result"
    }
   ],
   "source": [
    "aggregated_df.collect()"
   ]
  },
  {
   "cell_type": "code",
   "execution_count": null,
   "id": "67d9b3c2-a7c0-4ef4-a8cf-d95f0794ca98",
   "metadata": {},
   "outputs": [],
   "source": []
  }
 ],
 "metadata": {
  "kernelspec": {
   "display_name": "Python 3 (ipykernel)",
   "language": "python",
   "name": "python3"
  },
  "language_info": {
   "codemirror_mode": {
    "name": "ipython",
    "version": 3
   },
   "file_extension": ".py",
   "mimetype": "text/x-python",
   "name": "python",
   "nbconvert_exporter": "python",
   "pygments_lexer": "ipython3",
   "version": "3.10.8"
  }
 },
 "nbformat": 4,
 "nbformat_minor": 5
}
